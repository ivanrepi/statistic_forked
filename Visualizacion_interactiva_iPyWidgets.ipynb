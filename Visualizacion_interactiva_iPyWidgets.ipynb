{
 "cells": [
  {
   "cell_type": "markdown",
   "metadata": {},
   "source": [
    "# Visualización interactiva: iPyWidgets\n",
    "\n",
    "## Objetivos de la sesión\n",
    "* Introducción a iPyWidgets\n",
    "* Introducción del decorador `interact`\n",
    "* Creación de sliders para las visualizaciones interactivas\n",
    "* Creación de casillas desplegables para las visualizaciones interactivas\n",
    "* Creación de casillas de verificación para las visualizaciones interactivas\n",
    "* Creación de cuadros de texto para las visualizaciones interactivas\n",
    "\n",
    "## Introducción\n",
    "En la última lección, hablamos de cómo hacer visualizaciones interactivas basadas en Javascript usando Python y las librerías plotly y cufflinks. Esto nos proporcionó la habilidad de desplazarnos sobre los puntos de la gráfica para ver los valores, y también nos permitió incluir y excluir grupos de la visualización simplemente haciendo clic en ellos en la leyenda.\n",
    "\n",
    "La interacción no tiene por qué limitarse a eso. En esta lección, vamos a aprender a hacer nuestras visualizaciones aún más interactivas a través del uso de widgets tales como sliders, casillas desplegables, casillas de verificación y cuadros de texto. Estos widgets van a controlar aspectos de la información que se transmiten a nuestras visualizaciones. El uso de estos widgets para cambiar valores va a hacer que las visualizaciones cambien por sí mismas. Usaremos estos widgets para ampliar la capacidad de interacción de los gráficos generados con plotly y cufflinks.\n",
    "\n",
    "Para incorporar widgets en nuestras visualizaciones, tendremos que asegurarnos de tener instalada la biblioteca iPyWidgets."
   ]
  },
  {
   "cell_type": "code",
   "execution_count": null,
   "metadata": {},
   "outputs": [],
   "source": [
    "$ pip install ipywidgets"
   ]
  },
  {
   "cell_type": "markdown",
   "metadata": {},
   "source": [
    "Continuemos también con la importación de todo lo que vamos a necesitar para esta lección."
   ]
  },
  {
   "cell_type": "code",
   "execution_count": 1,
   "metadata": {},
   "outputs": [
    {
     "data": {
      "text/html": [
       "        <script type=\"text/javascript\">\n",
       "        window.PlotlyConfig = {MathJaxConfig: 'local'};\n",
       "        if (window.MathJax) {MathJax.Hub.Config({SVG: {font: \"STIX-Web\"}});}\n",
       "        if (typeof require !== 'undefined') {\n",
       "        require.undef(\"plotly\");\n",
       "        requirejs.config({\n",
       "            paths: {\n",
       "                'plotly': ['https://cdn.plot.ly/plotly-latest.min']\n",
       "            }\n",
       "        });\n",
       "        require(['plotly'], function(Plotly) {\n",
       "            window._Plotly = Plotly;\n",
       "        });\n",
       "        }\n",
       "        </script>\n",
       "        "
      ]
     },
     "metadata": {},
     "output_type": "display_data"
    }
   ],
   "source": [
    "import pandas as pd\n",
    "import plotly.plotly as py\n",
    "import cufflinks as cf\n",
    "from ipywidgets import interact\n",
    "\n",
    "cf.go_offline()"
   ]
  },
  {
   "cell_type": "markdown",
   "metadata": {},
   "source": [
    "Para esta lección continuaremos usando el mismo conjunto de datos de churn que usamos para la última lección"
   ]
  },
  {
   "cell_type": "code",
   "execution_count": 2,
   "metadata": {},
   "outputs": [],
   "source": [
    "df = pd.read_csv('./data/churn.csv')"
   ]
  },
  {
   "cell_type": "markdown",
   "metadata": {},
   "source": [
    "## El decorador `interact`\n",
    "\n",
    "La biblioteca de IPyWidgets tiene varias funcionalidades para crear widgets interactivos, pero el decorador `interact` es la más sencilla y útil para empezar, por lo que en esta lección nos centraremos en ella.\n",
    "\n",
    "El decorador `interact` acepta diferentes tipos de inputs, y el formato de esos inputs determinará el tipo de widget que se va a mostrar.\n",
    "\n",
    "* Slider: un valor numérico, (min, max), o (min, max, step)\n",
    "* Casilla desplegable: una lista o diccionario\n",
    "* Casilla de verificación: Valores Verdadero o Falso\n",
    "* Cuadro de texto: una cadena de caracteres entre comillas\n",
    "\n",
    "Veremos ejemplos de cada uno de ellos en las siguientes secciones, tanto individualmente como en conjunto.\n",
    "\n",
    "### Sliders interactivos\n",
    "Uno de los tipos de widgets más útiles que podemos usar para variables numéricas es el slider. Los sliders nos permiten modificar las variables numéricas que se introducen en las visualizaciones.\n",
    "\n",
    "Podemos ver un ejemplo básico con el siguiente histograma. Uno de los desafíos de trabajar con histogramas es determinar un número apropiado de contenedores. Los widgets pueden ayudarnos con esto permitiéndonos ver rápida y fácilmente diferentes números de contenedores sin tener que introducirlos manualmente en nuestro código y volver a generar la visualización.\n",
    "\n",
    "Podemos utilizar el decorador interactivo para crear un widget slider en el que especificamos un rango de contenedores (desde tan sólo 8 hasta tantos como sean necesarios). Entonces, podemos simplemente definir una función hist (no importa cómo se llame) que acepte el número dinámico de ubicaciones y las conecte a un histograma para que el número se actualice a medida que se modifican los valores con el slider."
   ]
  },
  {
   "cell_type": "code",
   "execution_count": 3,
   "metadata": {},
   "outputs": [
    {
     "data": {
      "application/vnd.jupyter.widget-view+json": {
       "model_id": "e458bed2d5df409a87ccda99d41cda31",
       "version_major": 2,
       "version_minor": 0
      },
      "text/plain": [
       "interactive(children=(IntSlider(value=40, description='bins', max=73, min=8), Output()), _dom_classes=('widget…"
      ]
     },
     "metadata": {},
     "output_type": "display_data"
    }
   ],
   "source": [
    "@interact(bins = (8, len(df['tenure'].unique())))\n",
    "def hist(bins):\n",
    "    df['tenure'].iplot(kind='hist', bins=bins, title='Tenure Distribution')"
   ]
  },
  {
   "cell_type": "markdown",
   "metadata": {},
   "source": [
    "Si deslizamos el slider hacia la izquierda, obtenemos un histograma con 8 bins. Si deslizamos el slider hacia la derecha, el número de contenedores aumenta a 72, que es el número de valores de permanencia únicos que hay en nuestro conjunto de datos."
   ]
  },
  {
   "cell_type": "markdown",
   "metadata": {},
   "source": [
    "### Casillas desplegables interactivas\n",
    "Otro widget muy útil cuando tenemos una visualización, y queremos ver cómo se comporta para diferentes grupos o para diferentes niveles dentro de un grupo es el cuadro desplegable. Para generarlo podemos pasarle una lista a nuestro decorador interactivo que consista en los campos que nos gustaría poder elegir. Luego podemos definir una función linechart que acepte la entrada que hemos elegido de la caja desplegable, pivotar nuestro conjunto de datos para que las columnas representen los valores categóricos en el campo elegido, y generar un gráfico de líneas con líneas que muestren los cambios en la tasa de pérdida de clientes para cada categoría."
   ]
  },
  {
   "cell_type": "code",
   "execution_count": 4,
   "metadata": {},
   "outputs": [],
   "source": [
    "df[\"ChurnBinary\"] = df.Churn\n",
    "df.ChurnBinary = df.ChurnBinary.replace('Yes',1)\n",
    "df.ChurnBinary = df.ChurnBinary.replace('No',0)"
   ]
  },
  {
   "cell_type": "code",
   "execution_count": 5,
   "metadata": {},
   "outputs": [
    {
     "data": {
      "application/vnd.jupyter.widget-view+json": {
       "model_id": "3db75f6d8d5841bcb376b59c2bd43f27",
       "version_major": 2,
       "version_minor": 0
      },
      "text/plain": [
       "interactive(children=(Dropdown(description='Selection', options=('gender', 'SeniorCitizen', 'Partner', 'Depend…"
      ]
     },
     "metadata": {},
     "output_type": "display_data"
    }
   ],
   "source": [
    "@interact(Selection=['gender', 'SeniorCitizen', 'Partner', \n",
    "                     'Dependents', 'InternetService', 'PaymentMethod'])\n",
    "\n",
    "def linechart(Selection):\n",
    "    data = df.pivot_table(values='ChurnBinary', columns=Selection,\n",
    "                            index='tenure', aggfunc='mean').reset_index()\n",
    "\n",
    "    data.iplot(kind='line', x='tenure', xTitle='Tenure', \n",
    "               yTitle='Avg. Churn Rate', title='Avg. Churn Rate by ' + Selection.title())"
   ]
  },
  {
   "cell_type": "markdown",
   "metadata": {},
   "source": [
    "Como podemos ver, disponer de una casilla de verificación donde podamos elegir el campo que queremos visualizar nos evita tener que volver a saltar al código, crear una pivot table para el campo específico, y luego volver a generar la visualización. Esto tiene el potencial de ahorrarnos una cantidad significativa de tiempo en nuestro flujo de trabajo de exploración de datos.\n",
    "\n",
    "Veamos otro ejemplo en el que usamos múltiples casillas de verificación para filtrar nuestros datos hasta un punto en el que podemos investigarlos a un nivel muy detallado.\n",
    "\n",
    "A continuación vamos a crear 4 cuadros desplegables diferentes que contengan los valores categóricos únicos en los campos de gender, Partner, InternetService y PaymentMethod respectivamente. Luego definimos una función scatter donde filtramos nuestros datos por los valores elegidos en cada uno de los cuadros desplegables y luego generamos un gráfico de dispersión que muestre cuánto se cobra a cada cliente por su permanencia, añadiendo códigos de color de para definir el tipo de contrato que tiene."
   ]
  },
  {
   "cell_type": "code",
   "execution_count": 7,
   "metadata": {},
   "outputs": [
    {
     "data": {
      "application/vnd.jupyter.widget-view+json": {
       "model_id": "d1dfad95ed644252a6743b25276038b2",
       "version_major": 2,
       "version_minor": 0
      },
      "text/plain": [
       "interactive(children=(Dropdown(description='Gender', options=('Female', 'Male'), value='Female'), Dropdown(des…"
      ]
     },
     "metadata": {},
     "output_type": "display_data"
    }
   ],
   "source": [
    "@interact(Gender=list(df['gender'].unique()), \n",
    "          Partner=list(df['Partner'].unique()),\n",
    "          Internet=list(df['InternetService'].unique()), \n",
    "          Payment=list(df['PaymentMethod'].unique())\n",
    "         )\n",
    "\n",
    "def scatter(Gender, Partner, Internet, Payment):\n",
    "    data = df[(df['gender']==Gender) & \n",
    "              (df['Partner']==Partner) & \n",
    "              (df['InternetService']==Internet) & \n",
    "              (df['PaymentMethod']==Payment)]\n",
    "\n",
    "    data.iplot(kind='scatter', x='tenure', y='MonthlyCharges', \n",
    "               categories='Contract', text='customerID', \n",
    "               xTitle='Tenure', yTitle='Monthly Charges',\n",
    "               title='Charges vs. Tenure')"
   ]
  },
  {
   "cell_type": "markdown",
   "metadata": {},
   "source": [
    "Debemos tener en cuenta que hemos añadido un argumento `text` a nuestro método `iplot` que nos mostrará el ID de cada cliente además de la cantidad mensual que está pagando cuando pasamos el puntero del ratón por encima de los nodos"
   ]
  },
  {
   "cell_type": "markdown",
   "metadata": {},
   "source": [
    "### Casillas de verificación interactivas\n",
    "Las casillas de verificación interactivas también pueden ayudarnos a explorar un conjunto de datos, especialmente cuando hay campos binarios cuyo impacto nos gustaría visualizar. La manera de hacer esto es mapear si la casilla de verificación está marcada con una condición correspondiente. Una vez hecho esto, sólo tenemos que filtrar el conjunto de datos en función de esas condiciones.\n",
    "\n",
    "A continuación hay un ejemplo que hace exactamente esto. El decorador interact tiene dos argumentos Verdadero/Falso que se mostrarán como casillas de verificación - una para Senior y otra para PhoneService. Dentro de nuestra función de gráfico de barras, escribimos algunas declaraciones condicionales que traducirán esas opciones Verdadero/Falso en condiciones que podemos usar para filtrar nuestros datos. A continuación, aplicamos estos filtros y agrupamos los datos por Método de Pago, calculando la tasa de abandono media para cada uno de ellos. Finalmente, generamos un gráfico de barras que muestra la tasa de abandono promedio para cada método de pago basado en los filtros aplicados a través de las casillas de verificación."
   ]
  },
  {
   "cell_type": "code",
   "execution_count": 11,
   "metadata": {},
   "outputs": [
    {
     "data": {
      "application/vnd.jupyter.widget-view+json": {
       "model_id": "99f6de8853fe483cb5e2b777278a14e7",
       "version_major": 2,
       "version_minor": 0
      },
      "text/plain": [
       "interactive(children=(Checkbox(value=False, description='Senior'), Checkbox(value=True, description='PhoneServ…"
      ]
     },
     "metadata": {},
     "output_type": "display_data"
    }
   ],
   "source": [
    "@interact(Senior=False, PhoneService=True)\n",
    "\n",
    "def barchart(Senior, PhoneService):\n",
    "    if Senior==True:\n",
    "        senior = df['SeniorCitizen']==1\n",
    "    else:\n",
    "        senior = df['SeniorCitizen']==0\n",
    "    \n",
    "    if PhoneService==True:\n",
    "        phone = df['PhoneService']=='Yes'\n",
    "    else:\n",
    "        phone = df['PhoneService']=='No'\n",
    "    \n",
    "    data = df[(senior) & (phone)].groupby('PaymentMethod').agg({'ChurnBinary':'mean'}).reset_index()\n",
    "    \n",
    "    data.iplot(kind='bar', x='PaymentMethod', xTitle='Payment Method',\n",
    "               yTitle='Avg. Churn Rate', color='blue', \n",
    "               title='Churn Rate by Payment Method')"
   ]
  },
  {
   "cell_type": "markdown",
   "metadata": {},
   "source": [
    "De forma predeterminada, la casilla PhoneService está marcada porque inicialmente la definimos como True."
   ]
  },
  {
   "cell_type": "markdown",
   "metadata": {},
   "source": [
    "### Cuadros de texto interactivos\n",
    "El último tipo de widget que vamos a tratar en esta lección es el cuadro de texto interactivo. Estos son buenos para filtrar cuando tenemos variables categóricas que son diferentes pero que tienen algun string en común. Por ejemplo, el campo PaymentMethod en nuestro conjunto de datos tiene cuatro valores únicos."
   ]
  },
  {
   "cell_type": "code",
   "execution_count": 13,
   "metadata": {},
   "outputs": [
    {
     "data": {
      "text/plain": [
       "array(['Electronic check', 'Mailed check', 'Bank transfer (automatic)',\n",
       "       'Credit card (automatic)'], dtype=object)"
      ]
     },
     "execution_count": 13,
     "metadata": {},
     "output_type": "execute_result"
    }
   ],
   "source": [
    "df['PaymentMethod'].unique()"
   ]
  },
  {
   "cell_type": "markdown",
   "metadata": {},
   "source": [
    "Hay similitudes entre los pares de estas categorías únicas - dos de ellas tienen la cadena 'check' en común y las otras dos tienen la cadena 'automatic' en común. Podemos usar un cuadro de texto para proporcionar un medio flexible mediante el cual podemos visualizar cualquiera de estas opciones en base a las cadenas únicas que contienen, o grupos de ellas en base a sus cadenas co-existentes.\n",
    "\n",
    "Para ello, volveremos a utilizar el decorador `interact`, pasando un argumento `Payment` con una cadena en blanco. Esto creará un cuadro de texto en el que podremos escribir cualquier cadena que queramos. En nuestra función de gráficos, filtraremos nuestro conjunto de datos sólo a los métodos de pago que contienen la cadena escrita en el cuadro de texto. Luego agregamos, clasificamos y visualizamos como un gráfico de barras."
   ]
  },
  {
   "cell_type": "code",
   "execution_count": 17,
   "metadata": {},
   "outputs": [],
   "source": [
    "New = range(0,10)\n",
    "Regular = range(10,30)\n",
    "Loyal = range(30,56)\n",
    "VeryLoyal = range(56,73)\n",
    "df[\"TenureLevel\"] = df.tenure\n",
    "df.TenureLevel = df.TenureLevel.replace(New,'New')\n",
    "df.TenureLevel = df.TenureLevel.replace(Regular,'Regular')\n",
    "df.TenureLevel = df.TenureLevel.replace(Loyal,'Loyal')\n",
    "df.TenureLevel = df.TenureLevel.replace(VeryLoyal,'VeryLoyal')"
   ]
  },
  {
   "cell_type": "code",
   "execution_count": 18,
   "metadata": {
    "scrolled": false
   },
   "outputs": [
    {
     "data": {
      "application/vnd.jupyter.widget-view+json": {
       "model_id": "42ea84ebf8054fa1bef9d9c35a03ba52",
       "version_major": 2,
       "version_minor": 0
      },
      "text/plain": [
       "interactive(children=(Text(value='', description='Payment'), Output()), _dom_classes=('widget-interact',))"
      ]
     },
     "metadata": {},
     "output_type": "display_data"
    }
   ],
   "source": [
    "@interact(Payment='')\n",
    "\n",
    "def chart(Payment):\n",
    "    data = df[df['PaymentMethod'].str.contains(Payment)]\n",
    "    data = data.groupby('TenureLevel').agg({'MonthlyCharges':'sum'}).reset_index()\n",
    "    custom_dict = {'New': 0, 'Regular': 1, 'Loyal': 2, 'Very Loyal' : 3}  \n",
    "    data = data.iloc[data['TenureLevel'].map(custom_dict).argsort()].set_index('TenureLevel')\n",
    "    \n",
    "    data.iplot(kind='bar', xTitle='Values')"
   ]
  },
  {
   "cell_type": "markdown",
   "metadata": {},
   "source": [
    "Si dejamos el cuadro de texto vacío, el gráfico nos muestra que el total de los cargos mensuales que cobra la compañía no depende demasiado del nivel de antiguedad si no tenemos en cuenta el método de pago\n",
    "\n",
    "Cuando escribimos'check' en el cuadro de texto, el gráfico se actualiza y nos muestra el total de los Cargos Mensuales que la compañía cobra de cada nivel de antigüedad solo para los métodos de pago concretos que contienen la cadena \"check\". Parece que los clientes menos leales tienden a utilizar más este método de pago.\n",
    "\n",
    "Sin embargo, cuando escribimos 'auto' en el cuadro de texto, el gráfico muestra que los clientes más fieles tienden a utilizar estos métodos de pago para pagar sus facturas."
   ]
  },
  {
   "cell_type": "markdown",
   "metadata": {},
   "source": [
    "## Resumen\n",
    "En esta lección, hemos introducido iPyWidgets y cómo podemos utilizarlos para añadir fácilmente más interactividad a nuestras visualizaciones. Aprendimos sobre el poderoso decorador `interact` y tratamos ejemplos de cada tipo de widget (sliders, casillas desplegables, casillas de verificación y cuadros de texto). Hemos cubierto cada uno de ellos individualmente, pero no hay nada que nos impida combinar varios widgets para crear visualizaciones muy complejas e interactivas. De hecho, te animamos a que te desafíes a ti mismo a hacerlo. Ya disponemos de todas las herramientas que necesitamos en nuestro arsenal, y la incorporación de widgets en nuestro flujo de trabajo analítico nos permite explorar los datos con mayor facilidad y, al mismo tiempo, ahorrar una cantidad significativa de tiempo."
   ]
  }
 ],
 "metadata": {
  "kernelspec": {
   "display_name": "Python 3",
   "language": "python",
   "name": "python3"
  },
  "language_info": {
   "codemirror_mode": {
    "name": "ipython",
    "version": 3
   },
   "file_extension": ".py",
   "mimetype": "text/x-python",
   "name": "python",
   "nbconvert_exporter": "python",
   "pygments_lexer": "ipython3",
   "version": "3.7.3"
  }
 },
 "nbformat": 4,
 "nbformat_minor": 2
}
