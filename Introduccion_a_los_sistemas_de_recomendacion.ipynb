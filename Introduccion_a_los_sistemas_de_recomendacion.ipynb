{
 "cells": [
  {
   "cell_type": "markdown",
   "metadata": {},
   "source": [
    "# Introducción a los sistemas de recomendación\n",
    "\n",
    "## Objetivos de la sesión\n",
    "* Aprender sobre los sistemas de recomendación.\n",
    "* Definir un primer filtrado colaborativo.\n",
    "* Visualizar las valoraciones de los usuarios en un espacio de preferencias general.\n",
    "* Calcular similitudes entre usuarios en el espacio de preferencias.\n",
    "* Utilizar puntuaciones de similitud para la ponderación.\n",
    "* Clasificar las calificaciones ponderadas para producir recomendaciones.\n",
    "\n",
    "## Introducción\n",
    "Los sistemas de recomendación son una parte fundamental del mundo digital actual. Se utilizan para personalizar la experiencia que un usuario tiene con un sitio web o una aplicación, haciéndola más útil para el usuario. Algunas de las compañías más prominentes de hoy en día tienen sistemas de recomendación en el centro de la experiencia del cliente.\n",
    "\n",
    "Amazon recomienda productos basados en compras de productos anteriores, valoraciones y las compras/valoraciones de otros clientes similares a nosotros.\n",
    "Netflix recomienda películas basadas en las películas que hemos visto, nuestras calificaciones y el comportamiento de otros usuarios similares a nosotros.\n",
    "Facebook, Twitter y LinkedIn recomiendan a personas que quizás ya conozcamos en base a nuestras conexiones y a las conexiones de aquellos con los que estamos conectados, y también usan esta información para personalizar nuestra fuente de noticias.\n",
    "En esta lección, aprenderemos los fundamentos de los sistemas de recomendación, cómo funcionan y cómo crear un sistema de filtrado básico basado en el usuario usando Python.\n",
    "\n",
    "## Filtrado colaborativo\n",
    "Antes de que existieran los sistemas de recomendación, la forma principal de obtener recomendaciones sobre cosas como películas o productos era preguntar a tus amigos. A medida que seguíamos sus recomendaciones, nos hacíamos una idea de qué amigos tenían gustos más similares a los nuestros y confiábamos en sus recomendaciones con más frecuencia. Sin embargo, a medida que el número de opciones disponibles ha aumentado drásticamente en las últimas décadas, se ha hecho cada vez más difícil confiar en las recomendaciones de un pequeño grupo de amigos, ya que también es cada vez más probable que ellos no conozcan todas las opciones disponibles. La solución para esto fue un método llamado filtrado colaborativo.\n",
    "\n",
    "El filtrado colaborativo nos proporciona una forma de hacer predicciones automáticas (filtrado) sobre los intereses de un usuario recogiendo las preferencias de muchos usuarios (colaboración). La suposición subyacente es que si dos personas tienen la misma opinión sobre un tema, es probable que también tengan una opinión similar sobre otros temas. Hay algunas maneras diferentes de enfocar el filtrado colaborativo, pero en términos generales, implican encontrar un grupo de personas similares a un usuario, analizar las cosas que les gustan y crear una lista clasificada de recomendaciones para el usuario.\n",
    "\n",
    "## Similitud entre usuarios\n",
    "La similitud entre los usuarios está en el centro del filtrado colaborativo. Para hacer buenas recomendaciones, necesitamos saber qué tan parecidos son dos usuarios. La manera de hacer esto es comparando cuán similares han sido sus valoraciones para el mismo producto. Por ejemplo, importemos el archivo [movie_ratings.csv](https://s3-eu-west-1.amazonaws.com/ih-materials/uploads/data-static/data/module-2/movie_ratings.csv)."
   ]
  },
  {
   "cell_type": "code",
   "execution_count": 1,
   "metadata": {},
   "outputs": [],
   "source": [
    "import pandas as pd\n",
    "%matplotlib inline\n",
    "\n",
    "ratings = pd.read_csv('./data/movie_ratings.csv').set_index('Movie')"
   ]
  },
  {
   "cell_type": "markdown",
   "metadata": {},
   "source": [
    "Este cuadro de datos contiene 10 películas y clasificaciones de 5 usuarios en una escala de 1 (no les gustó) a 5 (les encantó)."
   ]
  },
  {
   "cell_type": "code",
   "execution_count": 2,
   "metadata": {},
   "outputs": [
    {
     "data": {
      "text/html": [
       "<div>\n",
       "<style scoped>\n",
       "    .dataframe tbody tr th:only-of-type {\n",
       "        vertical-align: middle;\n",
       "    }\n",
       "\n",
       "    .dataframe tbody tr th {\n",
       "        vertical-align: top;\n",
       "    }\n",
       "\n",
       "    .dataframe thead th {\n",
       "        text-align: right;\n",
       "    }\n",
       "</style>\n",
       "<table border=\"1\" class=\"dataframe\">\n",
       "  <thead>\n",
       "    <tr style=\"text-align: right;\">\n",
       "      <th></th>\n",
       "      <th>Brandon</th>\n",
       "      <th>Emily</th>\n",
       "      <th>Cleo</th>\n",
       "      <th>Rusty</th>\n",
       "      <th>Samantha</th>\n",
       "    </tr>\n",
       "    <tr>\n",
       "      <th>Movie</th>\n",
       "      <th></th>\n",
       "      <th></th>\n",
       "      <th></th>\n",
       "      <th></th>\n",
       "      <th></th>\n",
       "    </tr>\n",
       "  </thead>\n",
       "  <tbody>\n",
       "    <tr>\n",
       "      <th>Aquaman</th>\n",
       "      <td>4</td>\n",
       "      <td>1</td>\n",
       "      <td>2</td>\n",
       "      <td>2</td>\n",
       "      <td>2</td>\n",
       "    </tr>\n",
       "    <tr>\n",
       "      <th>Avengers: Infinity War</th>\n",
       "      <td>2</td>\n",
       "      <td>5</td>\n",
       "      <td>2</td>\n",
       "      <td>5</td>\n",
       "      <td>5</td>\n",
       "    </tr>\n",
       "    <tr>\n",
       "      <th>Black Panther</th>\n",
       "      <td>5</td>\n",
       "      <td>2</td>\n",
       "      <td>5</td>\n",
       "      <td>1</td>\n",
       "      <td>1</td>\n",
       "    </tr>\n",
       "    <tr>\n",
       "      <th>Bohemian Rhapsody</th>\n",
       "      <td>2</td>\n",
       "      <td>3</td>\n",
       "      <td>4</td>\n",
       "      <td>4</td>\n",
       "      <td>1</td>\n",
       "    </tr>\n",
       "    <tr>\n",
       "      <th>Deadpool 2</th>\n",
       "      <td>3</td>\n",
       "      <td>2</td>\n",
       "      <td>4</td>\n",
       "      <td>5</td>\n",
       "      <td>1</td>\n",
       "    </tr>\n",
       "  </tbody>\n",
       "</table>\n",
       "</div>"
      ],
      "text/plain": [
       "                        Brandon  Emily  Cleo  Rusty  Samantha\n",
       "Movie                                                        \n",
       "Aquaman                       4      1     2      2         2\n",
       "Avengers: Infinity War        2      5     2      5         5\n",
       "Black Panther                 5      2     5      1         1\n",
       "Bohemian Rhapsody             2      3     4      4         1\n",
       "Deadpool 2                    3      2     4      5         1"
      ]
     },
     "execution_count": 2,
     "metadata": {},
     "output_type": "execute_result"
    }
   ],
   "source": [
    "ratings.head()"
   ]
  },
  {
   "cell_type": "markdown",
   "metadata": {},
   "source": [
    "Si quisiéramos echar un vistazo a las valoraciones de los usuarios en el espacio de preferencias de dos películas, podríamos definir una función que acepte dos títulos de películas y trazar gráficas de dispersión de las valoraciones de los usuarios de la siguiente manera."
   ]
  },
  {
   "cell_type": "code",
   "execution_count": 3,
   "metadata": {},
   "outputs": [],
   "source": [
    "def ratings_scatter(movie1, movie2):\n",
    "    import matplotlib.pyplot as plt\n",
    "    x = ratings.T[movie1]\n",
    "    y = ratings.T[movie2]\n",
    "    n = list(ratings.T.index)\n",
    "\n",
    "    fig, ax = plt.subplots()\n",
    "    ax.scatter(x, y, s=0)\n",
    "    fig.set_figwidth(12)\n",
    "    fig.set_figheight(8)\n",
    "    plt.title(\"Preference Space for \"+ movie1 + \" vs. \" + movie2, fontsize=20)\n",
    "    ax.set_xlabel(movie1, fontsize=16)\n",
    "    ax.set_ylabel(movie2, fontsize=16) \n",
    "\n",
    "    for i, txt in enumerate(n):\n",
    "        ax.annotate(txt, (x[i], y[i]), fontsize=12)"
   ]
  },
  {
   "cell_type": "markdown",
   "metadata": {},
   "source": [
    "Entonces, sólo tendríamos que elegir dos títulos y generar la gráfica para visualizar el espacio de preferencia de los usuarios en esas dos películas. Por ejemplo, a continuación se muestra el espacio de preferencia entre las películas Venom e Incredibles 2."
   ]
  },
  {
   "cell_type": "code",
   "execution_count": 4,
   "metadata": {},
   "outputs": [
    {
     "data": {
      "image/png": "[encoded data removed]",
      "text/plain": [
       "<Figure size 864x576 with 1 Axes>"
      ]
     },
     "metadata": {
      "needs_background": "light"
     },
     "output_type": "display_data"
    }
   ],
   "source": [
    "ratings_scatter('Venom', 'Incredibles 2')"
   ]
  },
  {
   "cell_type": "markdown",
   "metadata": {},
   "source": [
    "Podemos ver que a través de este espacio de preferencia, Rusty se parece más a Brandon que a Emily. Sin embargo, esto puede variar entre diferentes sets de películas. Si en lugar de eso, graficamos las clasificaciones de Bohemian Rhapsody y Jurassic World, Rusty se parece más a Emily que a Brandon en este espacio de preferencia."
   ]
  },
  {
   "cell_type": "code",
   "execution_count": 5,
   "metadata": {},
   "outputs": [
    {
     "data": {
      "image/png": "[encoded data removed]",
      "text/plain": [
       "<Figure size 864x576 with 1 Axes>"
      ]
     },
     "metadata": {
      "needs_background": "light"
     },
     "output_type": "display_data"
    }
   ],
   "source": [
    "ratings_scatter('Bohemian Rhapsody', 'Jurassic World: Fallen Kingdom')"
   ]
  },
  {
   "cell_type": "markdown",
   "metadata": {},
   "source": [
    "Para obtener la distancia agregada a través de todos los espacios de preferencia, podemos usar las funciones `squareform` y `pdist` de la biblioteca `Scipy` y así crear una matriz que contenga las distancias euclidianas entre todos nuestros usuarios."
   ]
  },
  {
   "cell_type": "code",
   "execution_count": 19,
   "metadata": {},
   "outputs": [
    {
     "data": {
      "text/plain": [
       "array([[0.        , 6.63324958, 6.        , 7.41619849, 7.48331477,\n",
       "        5.38516481],\n",
       "       [6.63324958, 0.        , 6.92820323, 6.40312424, 5.09901951,\n",
       "        6.40312424],\n",
       "       [6.        , 6.92820323, 0.        , 5.56776436, 8.24621125,\n",
       "        3.60555128],\n",
       "       [7.41619849, 6.40312424, 5.56776436, 0.        , 6.70820393,\n",
       "        6.92820323],\n",
       "       [7.48331477, 5.09901951, 8.24621125, 6.70820393, 0.        ,\n",
       "        7.54983444],\n",
       "       [5.38516481, 6.40312424, 3.60555128, 6.92820323, 7.54983444,\n",
       "        0.        ]])"
      ]
     },
     "execution_count": 19,
     "metadata": {},
     "output_type": "execute_result"
    }
   ],
   "source": [
    "from scipy.spatial.distance import pdist, squareform\n",
    "\n",
    "squareform(pdist(ratings.T, 'euclidean'))\n"
   ]
  },
  {
   "cell_type": "markdown",
   "metadata": {},
   "source": [
    "Estas distancias son más pequeñas para los usuarios que son más similares, pero para nuestros propósitos sería preferible tener una puntuación más alta para los usuarios que son más similares y una puntuación más baja para los usuarios que son menos similares. Podemos conseguirlo fácilmente añadiendo 1 a las puntuaciones e invirtiéndolas. También vamos a importarlos a un conjunto de datos para que podamos verlos y analizarlos más fácilmente."
   ]
  },
  {
   "cell_type": "code",
   "execution_count": 7,
   "metadata": {},
   "outputs": [
    {
     "data": {
      "text/html": [
       "<div>\n",
       "<style scoped>\n",
       "    .dataframe tbody tr th:only-of-type {\n",
       "        vertical-align: middle;\n",
       "    }\n",
       "\n",
       "    .dataframe tbody tr th {\n",
       "        vertical-align: top;\n",
       "    }\n",
       "\n",
       "    .dataframe thead th {\n",
       "        text-align: right;\n",
       "    }\n",
       "</style>\n",
       "<table border=\"1\" class=\"dataframe\">\n",
       "  <thead>\n",
       "    <tr style=\"text-align: right;\">\n",
       "      <th></th>\n",
       "      <th>Brandon</th>\n",
       "      <th>Emily</th>\n",
       "      <th>Cleo</th>\n",
       "      <th>Rusty</th>\n",
       "      <th>Samantha</th>\n",
       "    </tr>\n",
       "  </thead>\n",
       "  <tbody>\n",
       "    <tr>\n",
       "      <th>Brandon</th>\n",
       "      <td>1.000000</td>\n",
       "      <td>0.131006</td>\n",
       "      <td>0.142857</td>\n",
       "      <td>0.118818</td>\n",
       "      <td>0.117878</td>\n",
       "    </tr>\n",
       "    <tr>\n",
       "      <th>Emily</th>\n",
       "      <td>0.131006</td>\n",
       "      <td>1.000000</td>\n",
       "      <td>0.126132</td>\n",
       "      <td>0.135078</td>\n",
       "      <td>0.163961</td>\n",
       "    </tr>\n",
       "    <tr>\n",
       "      <th>Cleo</th>\n",
       "      <td>0.142857</td>\n",
       "      <td>0.126132</td>\n",
       "      <td>1.000000</td>\n",
       "      <td>0.152259</td>\n",
       "      <td>0.108152</td>\n",
       "    </tr>\n",
       "    <tr>\n",
       "      <th>Rusty</th>\n",
       "      <td>0.118818</td>\n",
       "      <td>0.135078</td>\n",
       "      <td>0.152259</td>\n",
       "      <td>1.000000</td>\n",
       "      <td>0.129732</td>\n",
       "    </tr>\n",
       "    <tr>\n",
       "      <th>Samantha</th>\n",
       "      <td>0.117878</td>\n",
       "      <td>0.163961</td>\n",
       "      <td>0.108152</td>\n",
       "      <td>0.129732</td>\n",
       "      <td>1.000000</td>\n",
       "    </tr>\n",
       "  </tbody>\n",
       "</table>\n",
       "</div>"
      ],
      "text/plain": [
       "           Brandon     Emily      Cleo     Rusty  Samantha\n",
       "Brandon   1.000000  0.131006  0.142857  0.118818  0.117878\n",
       "Emily     0.131006  1.000000  0.126132  0.135078  0.163961\n",
       "Cleo      0.142857  0.126132  1.000000  0.152259  0.108152\n",
       "Rusty     0.118818  0.135078  0.152259  1.000000  0.129732\n",
       "Samantha  0.117878  0.163961  0.108152  0.129732  1.000000"
      ]
     },
     "execution_count": 7,
     "metadata": {},
     "output_type": "execute_result"
    }
   ],
   "source": [
    "distances = pd.DataFrame(1/(1 + squareform(pdist(ratings.T, 'euclidean'))), \n",
    "                         index=ratings.columns, columns=ratings.columns)\n",
    "\n",
    "distances"
   ]
  },
  {
   "cell_type": "markdown",
   "metadata": {},
   "source": [
    "## Creación de recomendaciones para un usuario\n",
    "Supongamos que tenemos un nuevo usuario llamado Tom que vino a nosotros con las siguientes clasificaciones para cada película."
   ]
  },
  {
   "cell_type": "code",
   "execution_count": 8,
   "metadata": {},
   "outputs": [],
   "source": [
    "tom = {'Aquaman': 2,\n",
    " 'Avengers: Infinity War': 1,\n",
    " 'Black Panther': 5,\n",
    " 'Bohemian Rhapsody': 5,\n",
    " 'Deadpool 2': 2,\n",
    " 'Fantastic Beasts: The Crimes of Grindelwald': 3,\n",
    " 'Incredibles 2': 3,\n",
    " 'Jurassic World: Fallen Kingdom': 4,\n",
    " 'Mission: Impossible – Fallout': 3,\n",
    " 'Venom': 3}"
   ]
  },
  {
   "cell_type": "markdown",
   "metadata": {},
   "source": [
    "Podríamos incluir a Tom en nuestra matriz de similitud y luego determinar qué otros usuarios son más similares a él."
   ]
  },
  {
   "cell_type": "code",
   "execution_count": 9,
   "metadata": {},
   "outputs": [
    {
     "data": {
      "text/plain": [
       "Cleo        0.217129\n",
       "Brandon     0.156613\n",
       "Emily       0.135078\n",
       "Rusty       0.126132\n",
       "Samantha    0.116961\n",
       "Name: Tom, dtype: float64"
      ]
     },
     "execution_count": 9,
     "metadata": {},
     "output_type": "execute_result"
    }
   ],
   "source": [
    "ratings['Tom'] = pd.Series(tom)\n",
    "\n",
    "distances = pd.DataFrame(1/(1 + squareform(pdist(ratings.T, 'euclidean'))), \n",
    "                         index=ratings.columns, columns=ratings.columns)\n",
    "\n",
    "similarities = distances['Tom'].sort_values(ascending=False)[1:]\n",
    "similarities\n",
    "\n"
   ]
  },
  {
   "cell_type": "markdown",
   "metadata": {},
   "source": [
    "Parece que Cleo es la usuaria más parecida a Tom, seguida de Brandon, Emily, Rusty y luego Samantha. Estas puntuaciones de similitud deben ser tomadas en consideración cuando se le recomiendan películas a Tom que aún no haya visto.\n",
    "\n",
    "Digamos que todo el mundo, excepto Tom, también calificó las películas en el archivo [movie_ratings2.csv](https://s3-eu-west-1.amazonaws.com/ih-materials/uploads/data-static/data/module-2/movie_ratings2.csv). Vamos a importar esas clasificaciones y luego combinarlas con las puntuaciones de similitud para generar recomendaciones de películas para Tom."
   ]
  },
  {
   "cell_type": "code",
   "execution_count": 10,
   "metadata": {},
   "outputs": [],
   "source": [
    "new_ratings = pd.read_csv('./data/movie_ratings2.csv').set_index('Movie')"
   ]
  },
  {
   "cell_type": "markdown",
   "metadata": {},
   "source": [
    "Una vez que tengamos nuestra tabla de datos new_ratings, vamos a copiarla a una tabla de datos de nuevas recomendaciones sobre la que realizaremos nuestros cálculos."
   ]
  },
  {
   "cell_type": "code",
   "execution_count": 24,
   "metadata": {},
   "outputs": [
    {
     "data": {
      "text/html": [
       "<div>\n",
       "<style scoped>\n",
       "    .dataframe tbody tr th:only-of-type {\n",
       "        vertical-align: middle;\n",
       "    }\n",
       "\n",
       "    .dataframe tbody tr th {\n",
       "        vertical-align: top;\n",
       "    }\n",
       "\n",
       "    .dataframe thead th {\n",
       "        text-align: right;\n",
       "    }\n",
       "</style>\n",
       "<table border=\"1\" class=\"dataframe\">\n",
       "  <thead>\n",
       "    <tr style=\"text-align: right;\">\n",
       "      <th></th>\n",
       "      <th>Brandon</th>\n",
       "      <th>Emily</th>\n",
       "      <th>Cleo</th>\n",
       "      <th>Rusty</th>\n",
       "      <th>Samantha</th>\n",
       "    </tr>\n",
       "    <tr>\n",
       "      <th>Movie</th>\n",
       "      <th></th>\n",
       "      <th></th>\n",
       "      <th></th>\n",
       "      <th></th>\n",
       "      <th></th>\n",
       "    </tr>\n",
       "  </thead>\n",
       "  <tbody>\n",
       "    <tr>\n",
       "      <th>Beauty and the Beast</th>\n",
       "      <td>2</td>\n",
       "      <td>5</td>\n",
       "      <td>2</td>\n",
       "      <td>5</td>\n",
       "      <td>2</td>\n",
       "    </tr>\n",
       "    <tr>\n",
       "      <th>Despicable Me 3</th>\n",
       "      <td>4</td>\n",
       "      <td>5</td>\n",
       "      <td>5</td>\n",
       "      <td>1</td>\n",
       "      <td>2</td>\n",
       "    </tr>\n",
       "    <tr>\n",
       "      <th>Guardians of the Galaxy Vol. 2</th>\n",
       "      <td>4</td>\n",
       "      <td>1</td>\n",
       "      <td>5</td>\n",
       "      <td>4</td>\n",
       "      <td>2</td>\n",
       "    </tr>\n",
       "    <tr>\n",
       "      <th>Jumanji: Welcome to the Jungle</th>\n",
       "      <td>4</td>\n",
       "      <td>3</td>\n",
       "      <td>3</td>\n",
       "      <td>2</td>\n",
       "      <td>5</td>\n",
       "    </tr>\n",
       "    <tr>\n",
       "      <th>Spider-Man: Homecoming</th>\n",
       "      <td>1</td>\n",
       "      <td>3</td>\n",
       "      <td>5</td>\n",
       "      <td>2</td>\n",
       "      <td>5</td>\n",
       "    </tr>\n",
       "  </tbody>\n",
       "</table>\n",
       "</div>"
      ],
      "text/plain": [
       "                                Brandon  Emily  Cleo  Rusty  Samantha\n",
       "Movie                                                                \n",
       "Beauty and the Beast                  2      5     2      5         2\n",
       "Despicable Me 3                       4      5     5      1         2\n",
       "Guardians of the Galaxy Vol. 2        4      1     5      4         2\n",
       "Jumanji: Welcome to the Jungle        4      3     3      2         5\n",
       "Spider-Man: Homecoming                1      3     5      2         5"
      ]
     },
     "execution_count": 24,
     "metadata": {},
     "output_type": "execute_result"
    }
   ],
   "source": [
    "recommendations = new_ratings.copy()\n",
    "recommendations.head()"
   ]
  },
  {
   "cell_type": "markdown",
   "metadata": {},
   "source": [
    "Vamos a iterar a través de las puntuaciones de similitud de cada uno de los otros usuarios con Tom y ponderar sus recomendaciones de estas nuevas películas por su puntuación de similitud. Luego vamos a crear una nueva columna Total que resuma las puntuaciones totales de cada película y las clasificaremos de manera que las películas estén en el orden en que deben ser recomendadas a Tom."
   ]
  },
  {
   "cell_type": "code",
   "execution_count": 12,
   "metadata": {},
   "outputs": [
    {
     "data": {
      "text/html": [
       "<div>\n",
       "<style scoped>\n",
       "    .dataframe tbody tr th:only-of-type {\n",
       "        vertical-align: middle;\n",
       "    }\n",
       "\n",
       "    .dataframe tbody tr th {\n",
       "        vertical-align: top;\n",
       "    }\n",
       "\n",
       "    .dataframe thead th {\n",
       "        text-align: right;\n",
       "    }\n",
       "</style>\n",
       "<table border=\"1\" class=\"dataframe\">\n",
       "  <thead>\n",
       "    <tr style=\"text-align: right;\">\n",
       "      <th></th>\n",
       "      <th>Brandon</th>\n",
       "      <th>Emily</th>\n",
       "      <th>Cleo</th>\n",
       "      <th>Rusty</th>\n",
       "      <th>Samantha</th>\n",
       "      <th>Total</th>\n",
       "    </tr>\n",
       "    <tr>\n",
       "      <th>Movie</th>\n",
       "      <th></th>\n",
       "      <th></th>\n",
       "      <th></th>\n",
       "      <th></th>\n",
       "      <th></th>\n",
       "      <th></th>\n",
       "    </tr>\n",
       "  </thead>\n",
       "  <tbody>\n",
       "    <tr>\n",
       "      <th>Despicable Me 3</th>\n",
       "      <td>0.626452</td>\n",
       "      <td>0.675391</td>\n",
       "      <td>1.085646</td>\n",
       "      <td>0.126132</td>\n",
       "      <td>0.233923</td>\n",
       "      <td>2.747544</td>\n",
       "    </tr>\n",
       "    <tr>\n",
       "      <th>Wonder Woman</th>\n",
       "      <td>0.626452</td>\n",
       "      <td>0.405234</td>\n",
       "      <td>0.868517</td>\n",
       "      <td>0.378396</td>\n",
       "      <td>0.467845</td>\n",
       "      <td>2.746445</td>\n",
       "    </tr>\n",
       "    <tr>\n",
       "      <th>Thor: Ragnarok</th>\n",
       "      <td>0.626452</td>\n",
       "      <td>0.405234</td>\n",
       "      <td>0.868517</td>\n",
       "      <td>0.126132</td>\n",
       "      <td>0.584807</td>\n",
       "      <td>2.611142</td>\n",
       "    </tr>\n",
       "    <tr>\n",
       "      <th>Guardians of the Galaxy Vol. 2</th>\n",
       "      <td>0.626452</td>\n",
       "      <td>0.135078</td>\n",
       "      <td>1.085646</td>\n",
       "      <td>0.504528</td>\n",
       "      <td>0.233923</td>\n",
       "      <td>2.585627</td>\n",
       "    </tr>\n",
       "    <tr>\n",
       "      <th>Jumanji: Welcome to the Jungle</th>\n",
       "      <td>0.626452</td>\n",
       "      <td>0.405234</td>\n",
       "      <td>0.651388</td>\n",
       "      <td>0.252264</td>\n",
       "      <td>0.584807</td>\n",
       "      <td>2.520145</td>\n",
       "    </tr>\n",
       "    <tr>\n",
       "      <th>Spider-Man: Homecoming</th>\n",
       "      <td>0.156613</td>\n",
       "      <td>0.405234</td>\n",
       "      <td>1.085646</td>\n",
       "      <td>0.252264</td>\n",
       "      <td>0.584807</td>\n",
       "      <td>2.484564</td>\n",
       "    </tr>\n",
       "    <tr>\n",
       "      <th>Wolf Warrior 2</th>\n",
       "      <td>0.783065</td>\n",
       "      <td>0.405234</td>\n",
       "      <td>0.434259</td>\n",
       "      <td>0.378396</td>\n",
       "      <td>0.467845</td>\n",
       "      <td>2.468799</td>\n",
       "    </tr>\n",
       "    <tr>\n",
       "      <th>Beauty and the Beast</th>\n",
       "      <td>0.313226</td>\n",
       "      <td>0.675391</td>\n",
       "      <td>0.434259</td>\n",
       "      <td>0.630660</td>\n",
       "      <td>0.233923</td>\n",
       "      <td>2.287458</td>\n",
       "    </tr>\n",
       "    <tr>\n",
       "      <th>Star Wars: The Last Jedi</th>\n",
       "      <td>0.783065</td>\n",
       "      <td>0.540312</td>\n",
       "      <td>0.217129</td>\n",
       "      <td>0.252264</td>\n",
       "      <td>0.233923</td>\n",
       "      <td>2.026693</td>\n",
       "    </tr>\n",
       "    <tr>\n",
       "      <th>The Fate of the Furious</th>\n",
       "      <td>0.313226</td>\n",
       "      <td>0.135078</td>\n",
       "      <td>0.651388</td>\n",
       "      <td>0.378396</td>\n",
       "      <td>0.350884</td>\n",
       "      <td>1.828972</td>\n",
       "    </tr>\n",
       "  </tbody>\n",
       "</table>\n",
       "</div>"
      ],
      "text/plain": [
       "                                 Brandon     Emily      Cleo     Rusty  \\\n",
       "Movie                                                                    \n",
       "Despicable Me 3                 0.626452  0.675391  1.085646  0.126132   \n",
       "Wonder Woman                    0.626452  0.405234  0.868517  0.378396   \n",
       "Thor: Ragnarok                  0.626452  0.405234  0.868517  0.126132   \n",
       "Guardians of the Galaxy Vol. 2  0.626452  0.135078  1.085646  0.504528   \n",
       "Jumanji: Welcome to the Jungle  0.626452  0.405234  0.651388  0.252264   \n",
       "Spider-Man: Homecoming          0.156613  0.405234  1.085646  0.252264   \n",
       "Wolf Warrior 2                  0.783065  0.405234  0.434259  0.378396   \n",
       "Beauty and the Beast            0.313226  0.675391  0.434259  0.630660   \n",
       "Star Wars: The Last Jedi        0.783065  0.540312  0.217129  0.252264   \n",
       "The Fate of the Furious         0.313226  0.135078  0.651388  0.378396   \n",
       "\n",
       "                                Samantha     Total  \n",
       "Movie                                               \n",
       "Despicable Me 3                 0.233923  2.747544  \n",
       "Wonder Woman                    0.467845  2.746445  \n",
       "Thor: Ragnarok                  0.584807  2.611142  \n",
       "Guardians of the Galaxy Vol. 2  0.233923  2.585627  \n",
       "Jumanji: Welcome to the Jungle  0.584807  2.520145  \n",
       "Spider-Man: Homecoming          0.584807  2.484564  \n",
       "Wolf Warrior 2                  0.467845  2.468799  \n",
       "Beauty and the Beast            0.233923  2.287458  \n",
       "Star Wars: The Last Jedi        0.233923  2.026693  \n",
       "The Fate of the Furious         0.350884  1.828972  "
      ]
     },
     "execution_count": 12,
     "metadata": {},
     "output_type": "execute_result"
    }
   ],
   "source": [
    "for name, score in dict(similarities).items():\n",
    "    recommendations[name] = recommendations[name] * score\n",
    "\n",
    "recommendations['Total'] = recommendations.sum(axis=1)\n",
    "recommendations.sort_values('Total', ascending=False)"
   ]
  },
  {
   "cell_type": "markdown",
   "metadata": {},
   "source": [
    "De estos resultados, parece que a Tom le gustaría Despicable Me 3, Wonder Woman y Thor, pero quizás no Star Wars o The Fate of the Furious."
   ]
  },
  {
   "cell_type": "markdown",
   "metadata": {},
   "source": [
    "## Usando Métricas de Similitudes Diferentes\n",
    "Ahora que hemos generado un conjunto inicial de recomendaciones, hay un tema importante que nos gustaría comentar. Cuando calculamos nuestras métricas de similitud de usuario, utilizamos la distancia euclídea como nuestra métrica de distancia. Es importante señalar que existen otras métricas de distancia en Scipy que podríamos utilizar para obtener resultados diferentes. Una lista completa de todos los disponibles se puede encontrar [aquí](https://docs.scipy.org/doc/scipy/reference/spatial.distance.html).\n",
    "\n",
    "Para comprobar cómo son las recomendaciones utilizando una métrica de distancia diferente, todo lo que tenemos que hacer es cambiar el nombre de la métrica de la primera línea de código que aparece a continuación. Por ejemplo, si quisiéramos usar la distancia del coseno en su lugar, los resultados se verían así."
   ]
  },
  {
   "cell_type": "code",
   "execution_count": 13,
   "metadata": {},
   "outputs": [
    {
     "data": {
      "text/html": [
       "<div>\n",
       "<style scoped>\n",
       "    .dataframe tbody tr th:only-of-type {\n",
       "        vertical-align: middle;\n",
       "    }\n",
       "\n",
       "    .dataframe tbody tr th {\n",
       "        vertical-align: top;\n",
       "    }\n",
       "\n",
       "    .dataframe thead th {\n",
       "        text-align: right;\n",
       "    }\n",
       "</style>\n",
       "<table border=\"1\" class=\"dataframe\">\n",
       "  <thead>\n",
       "    <tr style=\"text-align: right;\">\n",
       "      <th></th>\n",
       "      <th>Brandon</th>\n",
       "      <th>Emily</th>\n",
       "      <th>Cleo</th>\n",
       "      <th>Rusty</th>\n",
       "      <th>Samantha</th>\n",
       "      <th>Total</th>\n",
       "    </tr>\n",
       "    <tr>\n",
       "      <th>Movie</th>\n",
       "      <th></th>\n",
       "      <th></th>\n",
       "      <th></th>\n",
       "      <th></th>\n",
       "      <th></th>\n",
       "      <th></th>\n",
       "    </tr>\n",
       "  </thead>\n",
       "  <tbody>\n",
       "    <tr>\n",
       "      <th>Wonder Woman</th>\n",
       "      <td>3.615951</td>\n",
       "      <td>2.511274</td>\n",
       "      <td>3.809728</td>\n",
       "      <td>2.532334</td>\n",
       "      <td>3.168375</td>\n",
       "      <td>15.637662</td>\n",
       "    </tr>\n",
       "    <tr>\n",
       "      <th>Despicable Me 3</th>\n",
       "      <td>3.615951</td>\n",
       "      <td>4.185457</td>\n",
       "      <td>4.762161</td>\n",
       "      <td>0.844111</td>\n",
       "      <td>1.584187</td>\n",
       "      <td>14.991867</td>\n",
       "    </tr>\n",
       "    <tr>\n",
       "      <th>Thor: Ragnarok</th>\n",
       "      <td>3.615951</td>\n",
       "      <td>2.511274</td>\n",
       "      <td>3.809728</td>\n",
       "      <td>0.844111</td>\n",
       "      <td>3.960468</td>\n",
       "      <td>14.741533</td>\n",
       "    </tr>\n",
       "    <tr>\n",
       "      <th>Wolf Warrior 2</th>\n",
       "      <td>4.519939</td>\n",
       "      <td>2.511274</td>\n",
       "      <td>1.904864</td>\n",
       "      <td>2.532334</td>\n",
       "      <td>3.168375</td>\n",
       "      <td>14.636786</td>\n",
       "    </tr>\n",
       "    <tr>\n",
       "      <th>Jumanji: Welcome to the Jungle</th>\n",
       "      <td>3.615951</td>\n",
       "      <td>2.511274</td>\n",
       "      <td>2.857296</td>\n",
       "      <td>1.688222</td>\n",
       "      <td>3.960468</td>\n",
       "      <td>14.633212</td>\n",
       "    </tr>\n",
       "    <tr>\n",
       "      <th>Guardians of the Galaxy Vol. 2</th>\n",
       "      <td>3.615951</td>\n",
       "      <td>0.837091</td>\n",
       "      <td>4.762161</td>\n",
       "      <td>3.376445</td>\n",
       "      <td>1.584187</td>\n",
       "      <td>14.175835</td>\n",
       "    </tr>\n",
       "    <tr>\n",
       "      <th>Spider-Man: Homecoming</th>\n",
       "      <td>0.903988</td>\n",
       "      <td>2.511274</td>\n",
       "      <td>4.762161</td>\n",
       "      <td>1.688222</td>\n",
       "      <td>3.960468</td>\n",
       "      <td>13.826113</td>\n",
       "    </tr>\n",
       "    <tr>\n",
       "      <th>Beauty and the Beast</th>\n",
       "      <td>1.807976</td>\n",
       "      <td>4.185457</td>\n",
       "      <td>1.904864</td>\n",
       "      <td>4.220556</td>\n",
       "      <td>1.584187</td>\n",
       "      <td>13.703040</td>\n",
       "    </tr>\n",
       "    <tr>\n",
       "      <th>Star Wars: The Last Jedi</th>\n",
       "      <td>4.519939</td>\n",
       "      <td>3.348365</td>\n",
       "      <td>0.952432</td>\n",
       "      <td>1.688222</td>\n",
       "      <td>1.584187</td>\n",
       "      <td>12.093146</td>\n",
       "    </tr>\n",
       "    <tr>\n",
       "      <th>The Fate of the Furious</th>\n",
       "      <td>1.807976</td>\n",
       "      <td>0.837091</td>\n",
       "      <td>2.857296</td>\n",
       "      <td>2.532334</td>\n",
       "      <td>2.376281</td>\n",
       "      <td>10.410978</td>\n",
       "    </tr>\n",
       "  </tbody>\n",
       "</table>\n",
       "</div>"
      ],
      "text/plain": [
       "                                 Brandon     Emily      Cleo     Rusty  \\\n",
       "Movie                                                                    \n",
       "Wonder Woman                    3.615951  2.511274  3.809728  2.532334   \n",
       "Despicable Me 3                 3.615951  4.185457  4.762161  0.844111   \n",
       "Thor: Ragnarok                  3.615951  2.511274  3.809728  0.844111   \n",
       "Wolf Warrior 2                  4.519939  2.511274  1.904864  2.532334   \n",
       "Jumanji: Welcome to the Jungle  3.615951  2.511274  2.857296  1.688222   \n",
       "Guardians of the Galaxy Vol. 2  3.615951  0.837091  4.762161  3.376445   \n",
       "Spider-Man: Homecoming          0.903988  2.511274  4.762161  1.688222   \n",
       "Beauty and the Beast            1.807976  4.185457  1.904864  4.220556   \n",
       "Star Wars: The Last Jedi        4.519939  3.348365  0.952432  1.688222   \n",
       "The Fate of the Furious         1.807976  0.837091  2.857296  2.532334   \n",
       "\n",
       "                                Samantha      Total  \n",
       "Movie                                                \n",
       "Wonder Woman                    3.168375  15.637662  \n",
       "Despicable Me 3                 1.584187  14.991867  \n",
       "Thor: Ragnarok                  3.960468  14.741533  \n",
       "Wolf Warrior 2                  3.168375  14.636786  \n",
       "Jumanji: Welcome to the Jungle  3.960468  14.633212  \n",
       "Guardians of the Galaxy Vol. 2  1.584187  14.175835  \n",
       "Spider-Man: Homecoming          3.960468  13.826113  \n",
       "Beauty and the Beast            1.584187  13.703040  \n",
       "Star Wars: The Last Jedi        1.584187  12.093146  \n",
       "The Fate of the Furious         2.376281  10.410978  "
      ]
     },
     "execution_count": 13,
     "metadata": {},
     "output_type": "execute_result"
    }
   ],
   "source": [
    "distances = pd.DataFrame(1/(1 + squareform(pdist(ratings.T, 'cosine'))), \n",
    "                         index=ratings.columns, columns=ratings.columns)\n",
    "\n",
    "similarities = distances['Tom'].sort_values(ascending=False)[1:]\n",
    "\n",
    "recommendations = new_ratings.copy()\n",
    "\n",
    "for name, score in dict(similarities).items():\n",
    "    recommendations[name] = recommendations[name] * score\n",
    "    \n",
    "recommendations['Total'] = recommendations.sum(axis=1)\n",
    "recommendations.sort_values('Total', ascending=False)"
   ]
  },
  {
   "cell_type": "markdown",
   "metadata": {},
   "source": [
    "Podemos ver que Wonder Woman está ahora en lo más alto de la lista, Guardians of the Galaxy cayó unos cuantos lugares, y Wolf Warrior se arrastró hasta el puesto número 4.\n",
    "\n",
    "Si en lugar de eso probamos la distancia cityblock, Guardians of the Galaxy sube hasta el número 3 y Spider-Man se coloca entre los 5 primeros."
   ]
  },
  {
   "cell_type": "markdown",
   "metadata": {},
   "source": [
    "## Resumen\n",
    "En esta lección, hemos realizado una introducción a los sistemas de recomendación y hemos echado un vistazo a cómo podemos crear un recomendador de filtrado basado en el usuario. A lo largo del camino, hemos visualizado los espacios de preferencia del usuario para pares de películas, hemos calculado las puntuaciones de similitud entre grupos de usuarios y hemos combinado esas puntuaciones de similitud con las puntuaciones para clasificar las películas de modo que podamos recomendarlas a un usuario en particular. Esto es sólo la punta del iceberg cuando se trata de sistemas de recomendación, pero esperamos que esta lección haya dado una idea de cómo funcionan estos tipos de sistemas y cómo podríamos armar uno propio."
   ]
  }
 ],
 "metadata": {
  "kernelspec": {
   "display_name": "Python 3",
   "language": "python",
   "name": "python3"
  },
  "language_info": {
   "codemirror_mode": {
    "name": "ipython",
    "version": 3
   },
   "file_extension": ".py",
   "mimetype": "text/x-python",
   "name": "python",
   "nbconvert_exporter": "python",
   "pygments_lexer": "ipython3",
   "version": "3.7.3"
  }
 },
 "nbformat": 4,
 "nbformat_minor": 2
}
