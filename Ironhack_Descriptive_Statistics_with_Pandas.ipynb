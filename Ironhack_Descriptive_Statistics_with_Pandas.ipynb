{
 "cells": [
  {
   "cell_type": "markdown",
   "metadata": {},
   "source": [
    "# Estadísticos descriptivos con Pandas"
   ]
  },
  {
   "cell_type": "markdown",
   "metadata": {},
   "source": [
    "## Objetivos\n",
    "\n",
    "- Entender la función  de los estadísticos descriptivos en ciencia de datos\n",
    "- Saber cómo inspeccionar el tipo de dato de cada columna de nuestro data set\n",
    "- Aprender cómo obtener los distintos descriptivos en Pandas\n",
    "- Ser capaces de crear visualizaciones básicas que describan la información que guarda nuestro data set"
   ]
  },
  {
   "cell_type": "markdown",
   "metadata": {},
   "source": [
    "## Introducción\n",
    "\n",
    "Cuando tenemos muchos datos, utilizar descriptivos nos lleva a inferir nuestras primeras conclusiones sobre la distribución que tenemos entre manos. Durante este módulo vamos a trabajar con \"animals.csv\""
   ]
  },
  {
   "cell_type": "code",
   "execution_count": 2,
   "metadata": {},
   "outputs": [
    {
     "data": {
      "text/plain": [
       "'C:\\\\Users\\\\Toni\\\\Desktop\\\\Ironhack'"
      ]
     },
     "execution_count": 2,
     "metadata": {},
     "output_type": "execute_result"
    }
   ],
   "source": [
    "pwd"
   ]
  },
  {
   "cell_type": "code",
   "execution_count": 1,
   "metadata": {},
   "outputs": [],
   "source": [
    "#Las bibliotecas que vamos a utilizar y que son imprescindibles para trabajar con datos son numpy y pandas.\n",
    "\n",
    "#numpy nos permite trabajar con vectores y matrices\n",
    "import numpy as np\n",
    "\n",
    "#pandas posee casi todo lo necesario para trabajar con análisis y manipulación de datos con Data Frames y Series a este nivel\n",
    "import pandas as pd\n",
    "\n",
    "#la función read de pandas nos permite abrir archivos de distintos formatos\n",
    "animals = pd.read_csv('Data/animals.csv')"
   ]
  },
  {
   "cell_type": "code",
   "execution_count": 18,
   "metadata": {},
   "outputs": [
    {
     "data": {
      "text/html": [
       "<div>\n",
       "<style scoped>\n",
       "    .dataframe tbody tr th:only-of-type {\n",
       "        vertical-align: middle;\n",
       "    }\n",
       "\n",
       "    .dataframe tbody tr th {\n",
       "        vertical-align: top;\n",
       "    }\n",
       "\n",
       "    .dataframe thead th {\n",
       "        text-align: right;\n",
       "    }\n",
       "</style>\n",
       "<table border=\"1\" class=\"dataframe\">\n",
       "  <thead>\n",
       "    <tr style=\"text-align: right;\">\n",
       "      <th></th>\n",
       "      <th>brainwt</th>\n",
       "      <th>bodywt</th>\n",
       "      <th>animal</th>\n",
       "    </tr>\n",
       "  </thead>\n",
       "  <tbody>\n",
       "    <tr>\n",
       "      <th>0</th>\n",
       "      <td>3.385</td>\n",
       "      <td>44.500</td>\n",
       "      <td>Arctic_fox</td>\n",
       "    </tr>\n",
       "    <tr>\n",
       "      <th>1</th>\n",
       "      <td>0.480</td>\n",
       "      <td>15.499</td>\n",
       "      <td>Owl_monkey</td>\n",
       "    </tr>\n",
       "    <tr>\n",
       "      <th>2</th>\n",
       "      <td>1.350</td>\n",
       "      <td>8.100</td>\n",
       "      <td>Beaver</td>\n",
       "    </tr>\n",
       "    <tr>\n",
       "      <th>3</th>\n",
       "      <td>464.983</td>\n",
       "      <td>423.012</td>\n",
       "      <td>Cow</td>\n",
       "    </tr>\n",
       "    <tr>\n",
       "      <th>4</th>\n",
       "      <td>36.328</td>\n",
       "      <td>119.498</td>\n",
       "      <td>Gray_wolf</td>\n",
       "    </tr>\n",
       "  </tbody>\n",
       "</table>\n",
       "</div>"
      ],
      "text/plain": [
       "   brainwt   bodywt      animal\n",
       "0    3.385   44.500  Arctic_fox\n",
       "1    0.480   15.499  Owl_monkey\n",
       "2    1.350    8.100      Beaver\n",
       "3  464.983  423.012         Cow\n",
       "4   36.328  119.498   Gray_wolf"
      ]
     },
     "execution_count": 18,
     "metadata": {},
     "output_type": "execute_result"
    }
   ],
   "source": [
    "animals.head()"
   ]
  },
  {
   "cell_type": "markdown",
   "metadata": {},
   "source": [
    "## Tipos de datos\n",
    "De cara a un mejor entendimiento de nuestro data set podemos explorar el tipo de dato de cada columna con la función \"dtypes\" para Data Frames y \"dtype\" para Series"
   ]
  },
  {
   "cell_type": "code",
   "execution_count": 3,
   "metadata": {},
   "outputs": [
    {
     "data": {
      "text/plain": [
       "brainwt    float64\n",
       "bodywt     float64\n",
       "animal      object\n",
       "dtype: object"
      ]
     },
     "execution_count": 3,
     "metadata": {},
     "output_type": "execute_result"
    }
   ],
   "source": [
    "animals.dtypes"
   ]
  },
  {
   "cell_type": "markdown",
   "metadata": {},
   "source": [
    "En este caso tenemos dos columnas de \"flotantes\" (float64) y una de categóricos (pandas lo pone como \"object\").\n",
    "[Otros tipos de datos](https://pbpython.com/pandas_dtypes.html) que encontraremos en pandas son los \"enteros\" (int64), \"booleanos\"(bool) y datos de tipo fecha (datetime64)."
   ]
  },
  {
   "cell_type": "markdown",
   "metadata": {},
   "source": [
    "El número de columnas de cada tipo en un Data Frame puede obtenerse con la función get_dtype_counts()"
   ]
  },
  {
   "cell_type": "code",
   "execution_count": 4,
   "metadata": {},
   "outputs": [
    {
     "data": {
      "text/plain": [
       "float64    2\n",
       "object     1\n",
       "dtype: int64"
      ]
     },
     "execution_count": 4,
     "metadata": {},
     "output_type": "execute_result"
    }
   ],
   "source": [
    "animals.get_dtype_counts()"
   ]
  },
  {
   "cell_type": "markdown",
   "metadata": {},
   "source": [
    "Se puede usar el método astype () para convertir los tipos de datos de uno a otro. Generarán una excepción si la operación de astype no es válida.\n",
    "\n",
    "Si dos tipos diferentes están involucrados en una operación, entonces el más general se usará como resultado de la operación."
   ]
  },
  {
   "cell_type": "code",
   "execution_count": 17,
   "metadata": {},
   "outputs": [
    {
     "data": {
      "text/plain": [
       "dtype('O')"
      ]
     },
     "execution_count": 17,
     "metadata": {},
     "output_type": "execute_result"
    }
   ],
   "source": [
    "animals.to_numpy().dtype"
   ]
  },
  {
   "cell_type": "code",
   "execution_count": 15,
   "metadata": {
    "scrolled": true
   },
   "outputs": [
    {
     "name": "stdout",
     "output_type": "stream",
     "text": [
      "Help on method astype in module pandas.core.generic:\n",
      "\n",
      "astype(dtype, copy=True, errors='raise', **kwargs) method of pandas.core.frame.DataFrame instance\n",
      "    Cast a pandas object to a specified dtype ``dtype``.\n",
      "    \n",
      "    Parameters\n",
      "    ----------\n",
      "    dtype : data type, or dict of column name -> data type\n",
      "        Use a numpy.dtype or Python type to cast entire pandas object to\n",
      "        the same type. Alternatively, use {col: dtype, ...}, where col is a\n",
      "        column label and dtype is a numpy.dtype or Python type to cast one\n",
      "        or more of the DataFrame's columns to column-specific types.\n",
      "    copy : bool, default True\n",
      "        Return a copy when ``copy=True`` (be very careful setting\n",
      "        ``copy=False`` as changes to values then may propagate to other\n",
      "        pandas objects).\n",
      "    errors : {'raise', 'ignore'}, default 'raise'\n",
      "        Control raising of exceptions on invalid data for provided dtype.\n",
      "    \n",
      "        - ``raise`` : allow exceptions to be raised\n",
      "        - ``ignore`` : suppress exceptions. On error return original object\n",
      "    \n",
      "        .. versionadded:: 0.20.0\n",
      "    \n",
      "    kwargs : keyword arguments to pass on to the constructor\n",
      "    \n",
      "    Returns\n",
      "    -------\n",
      "    casted : same type as caller\n",
      "    \n",
      "    See Also\n",
      "    --------\n",
      "    to_datetime : Convert argument to datetime.\n",
      "    to_timedelta : Convert argument to timedelta.\n",
      "    to_numeric : Convert argument to a numeric type.\n",
      "    numpy.ndarray.astype : Cast a numpy array to a specified type.\n",
      "    \n",
      "    Examples\n",
      "    --------\n",
      "    >>> ser = pd.Series([1, 2], dtype='int32')\n",
      "    >>> ser\n",
      "    0    1\n",
      "    1    2\n",
      "    dtype: int32\n",
      "    >>> ser.astype('int64')\n",
      "    0    1\n",
      "    1    2\n",
      "    dtype: int64\n",
      "    \n",
      "    Convert to categorical type:\n",
      "    \n",
      "    >>> ser.astype('category')\n",
      "    0    1\n",
      "    1    2\n",
      "    dtype: category\n",
      "    Categories (2, int64): [1, 2]\n",
      "    \n",
      "    Convert to ordered categorical type with custom ordering:\n",
      "    \n",
      "    >>> cat_dtype = pd.api.types.CategoricalDtype(\n",
      "    ...                     categories=[2, 1], ordered=True)\n",
      "    >>> ser.astype(cat_dtype)\n",
      "    0    1\n",
      "    1    2\n",
      "    dtype: category\n",
      "    Categories (2, int64): [2 < 1]\n",
      "    \n",
      "    Note that using ``copy=False`` and changing data on a new\n",
      "    pandas object may propagate changes:\n",
      "    \n",
      "    >>> s1 = pd.Series([1,2])\n",
      "    >>> s2 = s1.astype('int64', copy=False)\n",
      "    >>> s2[0] = 10\n",
      "    >>> s1  # note that s1[0] has changed too\n",
      "    0    10\n",
      "    1     2\n",
      "    dtype: int64\n",
      "\n"
     ]
    }
   ],
   "source": [
    "help(animals.astype)"
   ]
  },
  {
   "cell_type": "code",
   "execution_count": 6,
   "metadata": {},
   "outputs": [
    {
     "data": {
      "text/plain": [
       "Index(['brainwt', 'bodywt', 'animal'], dtype='object')"
      ]
     },
     "execution_count": 6,
     "metadata": {},
     "output_type": "execute_result"
    }
   ],
   "source": [
    "animals.columns"
   ]
  },
  {
   "cell_type": "code",
   "execution_count": 7,
   "metadata": {
    "collapsed": true
   },
   "outputs": [
    {
     "data": {
      "text/plain": [
       "0        3\n",
       "1        0\n",
       "2        1\n",
       "3      464\n",
       "4       36\n",
       "5       27\n",
       "6       14\n",
       "7        1\n",
       "8        4\n",
       "9        0\n",
       "10       0\n",
       "11       0\n",
       "12       1\n",
       "13       0\n",
       "14       0\n",
       "15       3\n",
       "16       2\n",
       "17       1\n",
       "18    2547\n",
       "19       0\n",
       "20     187\n",
       "21     521\n",
       "22       0\n",
       "23      10\n",
       "24       3\n",
       "25       0\n",
       "26       1\n",
       "27     529\n",
       "28     206\n",
       "29      85\n",
       "      ... \n",
       "32    6654\n",
       "33       3\n",
       "34       6\n",
       "35      34\n",
       "36       4\n",
       "37       0\n",
       "38       0\n",
       "39       0\n",
       "40       1\n",
       "41     250\n",
       "42       2\n",
       "43      55\n",
       "44     100\n",
       "45      52\n",
       "46      10\n",
       "47       0\n",
       "48      59\n",
       "49       3\n",
       "50       4\n",
       "51       0\n",
       "52       0\n",
       "53       0\n",
       "54       0\n",
       "55     192\n",
       "56       3\n",
       "57     160\n",
       "58       0\n",
       "59       1\n",
       "60       0\n",
       "61       4\n",
       "Name: brainwt, Length: 62, dtype: int32"
      ]
     },
     "execution_count": 7,
     "metadata": {},
     "output_type": "execute_result"
    }
   ],
   "source": [
    "animals.brainwt.astype(int)"
   ]
  },
  {
   "cell_type": "markdown",
   "metadata": {},
   "source": [
    "## Medidas Descriptivas"
   ]
  },
  {
   "cell_type": "markdown",
   "metadata": {},
   "source": [
    "### Medidas de tendencia central\n",
    "- Media\n",
    "- Mediana\n",
    "- Moda"
   ]
  },
  {
   "cell_type": "code",
   "execution_count": 6,
   "metadata": {},
   "outputs": [
    {
     "data": {
      "text/plain": [
       "brainwt    198.794290\n",
       "bodywt     283.135355\n",
       "dtype: float64"
      ]
     },
     "execution_count": 6,
     "metadata": {},
     "output_type": "execute_result"
    }
   ],
   "source": [
    "animals.mean()"
   ]
  },
  {
   "cell_type": "code",
   "execution_count": 11,
   "metadata": {},
   "outputs": [
    {
     "data": {
      "text/plain": [
       "283.1353548387098"
      ]
     },
     "execution_count": 11,
     "metadata": {},
     "output_type": "execute_result"
    }
   ],
   "source": [
    "animals['bodywt'].mean()"
   ]
  },
  {
   "cell_type": "code",
   "execution_count": 7,
   "metadata": {},
   "outputs": [
    {
     "data": {
      "text/plain": [
       "brainwt     3.3425\n",
       "bodywt     17.2500\n",
       "dtype: float64"
      ]
     },
     "execution_count": 7,
     "metadata": {},
     "output_type": "execute_result"
    }
   ],
   "source": [
    "animals.median()"
   ]
  },
  {
   "cell_type": "code",
   "execution_count": 19,
   "metadata": {
    "scrolled": true
   },
   "outputs": [
    {
     "data": {
      "text/html": [
       "<div>\n",
       "<style scoped>\n",
       "    .dataframe tbody tr th:only-of-type {\n",
       "        vertical-align: middle;\n",
       "    }\n",
       "\n",
       "    .dataframe tbody tr th {\n",
       "        vertical-align: top;\n",
       "    }\n",
       "\n",
       "    .dataframe thead th {\n",
       "        text-align: right;\n",
       "    }\n",
       "</style>\n",
       "<table border=\"1\" class=\"dataframe\">\n",
       "  <thead>\n",
       "    <tr style=\"text-align: right;\">\n",
       "      <th></th>\n",
       "      <th>brainwt</th>\n",
       "      <th>bodywt</th>\n",
       "      <th>animal</th>\n",
       "    </tr>\n",
       "  </thead>\n",
       "  <tbody>\n",
       "    <tr>\n",
       "      <th>0</th>\n",
       "      <td>0.023</td>\n",
       "      <td>1.000</td>\n",
       "      <td>African_elephant</td>\n",
       "    </tr>\n",
       "    <tr>\n",
       "      <th>1</th>\n",
       "      <td>3.500</td>\n",
       "      <td>12.300</td>\n",
       "      <td>African_giant_pouched_rat</td>\n",
       "    </tr>\n",
       "    <tr>\n",
       "      <th>2</th>\n",
       "      <td>NaN</td>\n",
       "      <td>114.996</td>\n",
       "      <td>Arctic</td>\n",
       "    </tr>\n",
       "    <tr>\n",
       "      <th>3</th>\n",
       "      <td>NaN</td>\n",
       "      <td>NaN</td>\n",
       "      <td>Arctic_fox</td>\n",
       "    </tr>\n",
       "    <tr>\n",
       "      <th>4</th>\n",
       "      <td>NaN</td>\n",
       "      <td>NaN</td>\n",
       "      <td>Asian_elephant</td>\n",
       "    </tr>\n",
       "    <tr>\n",
       "      <th>5</th>\n",
       "      <td>NaN</td>\n",
       "      <td>NaN</td>\n",
       "      <td>Baboon</td>\n",
       "    </tr>\n",
       "    <tr>\n",
       "      <th>6</th>\n",
       "      <td>NaN</td>\n",
       "      <td>NaN</td>\n",
       "      <td>Beaver</td>\n",
       "    </tr>\n",
       "    <tr>\n",
       "      <th>7</th>\n",
       "      <td>NaN</td>\n",
       "      <td>NaN</td>\n",
       "      <td>Big_brown_bat</td>\n",
       "    </tr>\n",
       "    <tr>\n",
       "      <th>8</th>\n",
       "      <td>NaN</td>\n",
       "      <td>NaN</td>\n",
       "      <td>Brazilian_tapir</td>\n",
       "    </tr>\n",
       "    <tr>\n",
       "      <th>9</th>\n",
       "      <td>NaN</td>\n",
       "      <td>NaN</td>\n",
       "      <td>Cat</td>\n",
       "    </tr>\n",
       "    <tr>\n",
       "      <th>10</th>\n",
       "      <td>NaN</td>\n",
       "      <td>NaN</td>\n",
       "      <td>Chimpanzee</td>\n",
       "    </tr>\n",
       "    <tr>\n",
       "      <th>11</th>\n",
       "      <td>NaN</td>\n",
       "      <td>NaN</td>\n",
       "      <td>Chinchilla</td>\n",
       "    </tr>\n",
       "    <tr>\n",
       "      <th>12</th>\n",
       "      <td>NaN</td>\n",
       "      <td>NaN</td>\n",
       "      <td>Cow</td>\n",
       "    </tr>\n",
       "    <tr>\n",
       "      <th>13</th>\n",
       "      <td>NaN</td>\n",
       "      <td>NaN</td>\n",
       "      <td>Desert_hedgehog</td>\n",
       "    </tr>\n",
       "    <tr>\n",
       "      <th>14</th>\n",
       "      <td>NaN</td>\n",
       "      <td>NaN</td>\n",
       "      <td>Donkey</td>\n",
       "    </tr>\n",
       "    <tr>\n",
       "      <th>15</th>\n",
       "      <td>NaN</td>\n",
       "      <td>NaN</td>\n",
       "      <td>E._American_mole</td>\n",
       "    </tr>\n",
       "    <tr>\n",
       "      <th>16</th>\n",
       "      <td>NaN</td>\n",
       "      <td>NaN</td>\n",
       "      <td>Echidna</td>\n",
       "    </tr>\n",
       "    <tr>\n",
       "      <th>17</th>\n",
       "      <td>NaN</td>\n",
       "      <td>NaN</td>\n",
       "      <td>European_hedgehog</td>\n",
       "    </tr>\n",
       "    <tr>\n",
       "      <th>18</th>\n",
       "      <td>NaN</td>\n",
       "      <td>NaN</td>\n",
       "      <td>Galago</td>\n",
       "    </tr>\n",
       "    <tr>\n",
       "      <th>19</th>\n",
       "      <td>NaN</td>\n",
       "      <td>NaN</td>\n",
       "      <td>Genet</td>\n",
       "    </tr>\n",
       "    <tr>\n",
       "      <th>20</th>\n",
       "      <td>NaN</td>\n",
       "      <td>NaN</td>\n",
       "      <td>Giant_armadillo</td>\n",
       "    </tr>\n",
       "    <tr>\n",
       "      <th>21</th>\n",
       "      <td>NaN</td>\n",
       "      <td>NaN</td>\n",
       "      <td>Giraffe</td>\n",
       "    </tr>\n",
       "    <tr>\n",
       "      <th>22</th>\n",
       "      <td>NaN</td>\n",
       "      <td>NaN</td>\n",
       "      <td>Goat</td>\n",
       "    </tr>\n",
       "    <tr>\n",
       "      <th>23</th>\n",
       "      <td>NaN</td>\n",
       "      <td>NaN</td>\n",
       "      <td>Golden_hamster</td>\n",
       "    </tr>\n",
       "    <tr>\n",
       "      <th>24</th>\n",
       "      <td>NaN</td>\n",
       "      <td>NaN</td>\n",
       "      <td>Gorilla</td>\n",
       "    </tr>\n",
       "    <tr>\n",
       "      <th>25</th>\n",
       "      <td>NaN</td>\n",
       "      <td>NaN</td>\n",
       "      <td>Gray_seal</td>\n",
       "    </tr>\n",
       "    <tr>\n",
       "      <th>26</th>\n",
       "      <td>NaN</td>\n",
       "      <td>NaN</td>\n",
       "      <td>Gray_wolf</td>\n",
       "    </tr>\n",
       "    <tr>\n",
       "      <th>27</th>\n",
       "      <td>NaN</td>\n",
       "      <td>NaN</td>\n",
       "      <td>Ground_squirrel</td>\n",
       "    </tr>\n",
       "    <tr>\n",
       "      <th>28</th>\n",
       "      <td>NaN</td>\n",
       "      <td>NaN</td>\n",
       "      <td>Guinea_pig</td>\n",
       "    </tr>\n",
       "    <tr>\n",
       "      <th>29</th>\n",
       "      <td>NaN</td>\n",
       "      <td>NaN</td>\n",
       "      <td>Horse</td>\n",
       "    </tr>\n",
       "    <tr>\n",
       "      <th>...</th>\n",
       "      <td>...</td>\n",
       "      <td>...</td>\n",
       "      <td>...</td>\n",
       "    </tr>\n",
       "    <tr>\n",
       "      <th>32</th>\n",
       "      <td>NaN</td>\n",
       "      <td>NaN</td>\n",
       "      <td>Kangaroo</td>\n",
       "    </tr>\n",
       "    <tr>\n",
       "      <th>33</th>\n",
       "      <td>NaN</td>\n",
       "      <td>NaN</td>\n",
       "      <td>Lesser_short-tailed-shrew</td>\n",
       "    </tr>\n",
       "    <tr>\n",
       "      <th>34</th>\n",
       "      <td>NaN</td>\n",
       "      <td>NaN</td>\n",
       "      <td>Little_brown_bat</td>\n",
       "    </tr>\n",
       "    <tr>\n",
       "      <th>35</th>\n",
       "      <td>NaN</td>\n",
       "      <td>NaN</td>\n",
       "      <td>Mole_rat</td>\n",
       "    </tr>\n",
       "    <tr>\n",
       "      <th>36</th>\n",
       "      <td>NaN</td>\n",
       "      <td>NaN</td>\n",
       "      <td>Mouse</td>\n",
       "    </tr>\n",
       "    <tr>\n",
       "      <th>37</th>\n",
       "      <td>NaN</td>\n",
       "      <td>NaN</td>\n",
       "      <td>Musk_shrew</td>\n",
       "    </tr>\n",
       "    <tr>\n",
       "      <th>38</th>\n",
       "      <td>NaN</td>\n",
       "      <td>NaN</td>\n",
       "      <td>N._American</td>\n",
       "    </tr>\n",
       "    <tr>\n",
       "      <th>39</th>\n",
       "      <td>NaN</td>\n",
       "      <td>NaN</td>\n",
       "      <td>Nine-banded_armadillo</td>\n",
       "    </tr>\n",
       "    <tr>\n",
       "      <th>40</th>\n",
       "      <td>NaN</td>\n",
       "      <td>NaN</td>\n",
       "      <td>Okapi</td>\n",
       "    </tr>\n",
       "    <tr>\n",
       "      <th>41</th>\n",
       "      <td>NaN</td>\n",
       "      <td>NaN</td>\n",
       "      <td>Owl_monkey</td>\n",
       "    </tr>\n",
       "    <tr>\n",
       "      <th>42</th>\n",
       "      <td>NaN</td>\n",
       "      <td>NaN</td>\n",
       "      <td>Patas_monkey</td>\n",
       "    </tr>\n",
       "    <tr>\n",
       "      <th>43</th>\n",
       "      <td>NaN</td>\n",
       "      <td>NaN</td>\n",
       "      <td>Phalanger</td>\n",
       "    </tr>\n",
       "    <tr>\n",
       "      <th>44</th>\n",
       "      <td>NaN</td>\n",
       "      <td>NaN</td>\n",
       "      <td>Pig</td>\n",
       "    </tr>\n",
       "    <tr>\n",
       "      <th>45</th>\n",
       "      <td>NaN</td>\n",
       "      <td>NaN</td>\n",
       "      <td>Rabbit</td>\n",
       "    </tr>\n",
       "    <tr>\n",
       "      <th>46</th>\n",
       "      <td>NaN</td>\n",
       "      <td>NaN</td>\n",
       "      <td>Raccoon</td>\n",
       "    </tr>\n",
       "    <tr>\n",
       "      <th>47</th>\n",
       "      <td>NaN</td>\n",
       "      <td>NaN</td>\n",
       "      <td>Rat</td>\n",
       "    </tr>\n",
       "    <tr>\n",
       "      <th>48</th>\n",
       "      <td>NaN</td>\n",
       "      <td>NaN</td>\n",
       "      <td>Red_fox</td>\n",
       "    </tr>\n",
       "    <tr>\n",
       "      <th>49</th>\n",
       "      <td>NaN</td>\n",
       "      <td>NaN</td>\n",
       "      <td>Rhesus_monkey</td>\n",
       "    </tr>\n",
       "    <tr>\n",
       "      <th>50</th>\n",
       "      <td>NaN</td>\n",
       "      <td>NaN</td>\n",
       "      <td>Rock_hyrax1</td>\n",
       "    </tr>\n",
       "    <tr>\n",
       "      <th>51</th>\n",
       "      <td>NaN</td>\n",
       "      <td>NaN</td>\n",
       "      <td>Rock_hyrax2</td>\n",
       "    </tr>\n",
       "    <tr>\n",
       "      <th>52</th>\n",
       "      <td>NaN</td>\n",
       "      <td>NaN</td>\n",
       "      <td>Roe_deer</td>\n",
       "    </tr>\n",
       "    <tr>\n",
       "      <th>53</th>\n",
       "      <td>NaN</td>\n",
       "      <td>NaN</td>\n",
       "      <td>Sheep</td>\n",
       "    </tr>\n",
       "    <tr>\n",
       "      <th>54</th>\n",
       "      <td>NaN</td>\n",
       "      <td>NaN</td>\n",
       "      <td>Slow_loris</td>\n",
       "    </tr>\n",
       "    <tr>\n",
       "      <th>55</th>\n",
       "      <td>NaN</td>\n",
       "      <td>NaN</td>\n",
       "      <td>Star-nosed_mole</td>\n",
       "    </tr>\n",
       "    <tr>\n",
       "      <th>56</th>\n",
       "      <td>NaN</td>\n",
       "      <td>NaN</td>\n",
       "      <td>Tenrec</td>\n",
       "    </tr>\n",
       "    <tr>\n",
       "      <th>57</th>\n",
       "      <td>NaN</td>\n",
       "      <td>NaN</td>\n",
       "      <td>Tree_hyrax</td>\n",
       "    </tr>\n",
       "    <tr>\n",
       "      <th>58</th>\n",
       "      <td>NaN</td>\n",
       "      <td>NaN</td>\n",
       "      <td>Tree_shrew</td>\n",
       "    </tr>\n",
       "    <tr>\n",
       "      <th>59</th>\n",
       "      <td>NaN</td>\n",
       "      <td>NaN</td>\n",
       "      <td>Vervet</td>\n",
       "    </tr>\n",
       "    <tr>\n",
       "      <th>60</th>\n",
       "      <td>NaN</td>\n",
       "      <td>NaN</td>\n",
       "      <td>Water_opossum</td>\n",
       "    </tr>\n",
       "    <tr>\n",
       "      <th>61</th>\n",
       "      <td>NaN</td>\n",
       "      <td>NaN</td>\n",
       "      <td>Yellow-bellied_marmot</td>\n",
       "    </tr>\n",
       "  </tbody>\n",
       "</table>\n",
       "<p>62 rows × 3 columns</p>\n",
       "</div>"
      ],
      "text/plain": [
       "    brainwt   bodywt                     animal\n",
       "0     0.023    1.000           African_elephant\n",
       "1     3.500   12.300  African_giant_pouched_rat\n",
       "2       NaN  114.996                     Arctic\n",
       "3       NaN      NaN                 Arctic_fox\n",
       "4       NaN      NaN             Asian_elephant\n",
       "5       NaN      NaN                     Baboon\n",
       "6       NaN      NaN                     Beaver\n",
       "7       NaN      NaN              Big_brown_bat\n",
       "8       NaN      NaN            Brazilian_tapir\n",
       "9       NaN      NaN                        Cat\n",
       "10      NaN      NaN                 Chimpanzee\n",
       "11      NaN      NaN                 Chinchilla\n",
       "12      NaN      NaN                        Cow\n",
       "13      NaN      NaN            Desert_hedgehog\n",
       "14      NaN      NaN                     Donkey\n",
       "15      NaN      NaN           E._American_mole\n",
       "16      NaN      NaN                    Echidna\n",
       "17      NaN      NaN          European_hedgehog\n",
       "18      NaN      NaN                     Galago\n",
       "19      NaN      NaN                      Genet\n",
       "20      NaN      NaN            Giant_armadillo\n",
       "21      NaN      NaN                    Giraffe\n",
       "22      NaN      NaN                       Goat\n",
       "23      NaN      NaN             Golden_hamster\n",
       "24      NaN      NaN                    Gorilla\n",
       "25      NaN      NaN                  Gray_seal\n",
       "26      NaN      NaN                  Gray_wolf\n",
       "27      NaN      NaN            Ground_squirrel\n",
       "28      NaN      NaN                 Guinea_pig\n",
       "29      NaN      NaN                      Horse\n",
       "..      ...      ...                        ...\n",
       "32      NaN      NaN                   Kangaroo\n",
       "33      NaN      NaN  Lesser_short-tailed-shrew\n",
       "34      NaN      NaN           Little_brown_bat\n",
       "35      NaN      NaN                   Mole_rat\n",
       "36      NaN      NaN                      Mouse\n",
       "37      NaN      NaN                 Musk_shrew\n",
       "38      NaN      NaN                N._American\n",
       "39      NaN      NaN      Nine-banded_armadillo\n",
       "40      NaN      NaN                      Okapi\n",
       "41      NaN      NaN                 Owl_monkey\n",
       "42      NaN      NaN               Patas_monkey\n",
       "43      NaN      NaN                  Phalanger\n",
       "44      NaN      NaN                        Pig\n",
       "45      NaN      NaN                     Rabbit\n",
       "46      NaN      NaN                    Raccoon\n",
       "47      NaN      NaN                        Rat\n",
       "48      NaN      NaN                    Red_fox\n",
       "49      NaN      NaN              Rhesus_monkey\n",
       "50      NaN      NaN                Rock_hyrax1\n",
       "51      NaN      NaN                Rock_hyrax2\n",
       "52      NaN      NaN                   Roe_deer\n",
       "53      NaN      NaN                      Sheep\n",
       "54      NaN      NaN                 Slow_loris\n",
       "55      NaN      NaN            Star-nosed_mole\n",
       "56      NaN      NaN                     Tenrec\n",
       "57      NaN      NaN                 Tree_hyrax\n",
       "58      NaN      NaN                 Tree_shrew\n",
       "59      NaN      NaN                     Vervet\n",
       "60      NaN      NaN              Water_opossum\n",
       "61      NaN      NaN      Yellow-bellied_marmot\n",
       "\n",
       "[62 rows x 3 columns]"
      ]
     },
     "execution_count": 19,
     "metadata": {},
     "output_type": "execute_result"
    }
   ],
   "source": [
    "# Mirar la moda en un dataframe puede darnos resultados poco intuitivos\n",
    "animals.mode()"
   ]
  },
  {
   "cell_type": "code",
   "execution_count": 22,
   "metadata": {},
   "outputs": [
    {
     "data": {
      "text/plain": [
       "0    0.023\n",
       "1    3.500\n",
       "dtype: float64"
      ]
     },
     "execution_count": 22,
     "metadata": {},
     "output_type": "execute_result"
    }
   ],
   "source": [
    "animals.brainwt.mode()"
   ]
  },
  {
   "cell_type": "markdown",
   "metadata": {},
   "source": [
    "### Medidas de simetría\n",
    "- Skewness. Asimetría de la distribución. ¿Es la media menor/mayor/igual que la mediana?\n",
    "- Curtosis. ¿Hay mucha concentración de valores alrededor de la media?"
   ]
  },
  {
   "cell_type": "code",
   "execution_count": 23,
   "metadata": {},
   "outputs": [
    {
     "data": {
      "text/plain": [
       "brainwt    6.563612\n",
       "bodywt     5.071528\n",
       "dtype: float64"
      ]
     },
     "execution_count": 23,
     "metadata": {},
     "output_type": "execute_result"
    }
   ],
   "source": [
    "animals.skew()"
   ]
  },
  {
   "cell_type": "code",
   "execution_count": 25,
   "metadata": {},
   "outputs": [
    {
     "data": {
      "text/plain": [
       "brainwt    45.741060\n",
       "bodywt     26.269725\n",
       "dtype: float64"
      ]
     },
     "execution_count": 25,
     "metadata": {},
     "output_type": "execute_result"
    }
   ],
   "source": [
    "animals.kurtosis()"
   ]
  },
  {
   "cell_type": "markdown",
   "metadata": {},
   "source": [
    "En nuestro caso la media es mayor que la mediana en ambas columnas, por lo que debe haber algunos outliers que provoquen esta asimetría. De la misma forma, la curtosis se presenta positiva en ambas columnas, indicando que los valores tienden a concentrarse alrededor de la media (distribución picuda)"
   ]
  },
  {
   "cell_type": "markdown",
   "metadata": {},
   "source": [
    "### Medidas de variabilidad/dispersión\n",
    "- Varianza\n",
    "- Desviación estándar. La medida más usada\n",
    "- Coeficiente de variación. Ratio std respecto de la media. Para comparar varios data sets\n",
    "- Cuartiles, Deciles y Percentiles"
   ]
  },
  {
   "cell_type": "code",
   "execution_count": 26,
   "metadata": {},
   "outputs": [
    {
     "data": {
      "text/plain": [
       "brainwt    808528.832320\n",
       "bodywt     865418.787715\n",
       "dtype: float64"
      ]
     },
     "execution_count": 26,
     "metadata": {},
     "output_type": "execute_result"
    }
   ],
   "source": [
    "animals.var()"
   ]
  },
  {
   "cell_type": "code",
   "execution_count": 27,
   "metadata": {},
   "outputs": [
    {
     "data": {
      "text/plain": [
       "brainwt    899.182313\n",
       "bodywt     930.278876\n",
       "dtype: float64"
      ]
     },
     "execution_count": 27,
     "metadata": {},
     "output_type": "execute_result"
    }
   ],
   "source": [
    "animals.std()"
   ]
  },
  {
   "cell_type": "code",
   "execution_count": 29,
   "metadata": {},
   "outputs": [
    {
     "data": {
      "text/plain": [
       "4.486554233764847"
      ]
     },
     "execution_count": 29,
     "metadata": {},
     "output_type": "execute_result"
    }
   ],
   "source": [
    "from scipy.stats import variation  \n",
    "\n",
    "variation(animals.brainwt)"
   ]
  },
  {
   "cell_type": "code",
   "execution_count": 33,
   "metadata": {},
   "outputs": [
    {
     "data": {
      "text/plain": [
       "brainwt    0.60\n",
       "bodywt     4.25\n",
       "Name: 0.25, dtype: float64"
      ]
     },
     "execution_count": 33,
     "metadata": {},
     "output_type": "execute_result"
    }
   ],
   "source": [
    "animals.quantile(0.25)"
   ]
  },
  {
   "cell_type": "code",
   "execution_count": 10,
   "metadata": {},
   "outputs": [
    {
     "data": {
      "text/plain": [
       "brainwt     48.20125\n",
       "bodywt     165.99825\n",
       "Name: 0.75, dtype: float64"
      ]
     },
     "execution_count": 10,
     "metadata": {},
     "output_type": "execute_result"
    }
   ],
   "source": [
    "animals.quantile(0.75)"
   ]
  },
  {
   "cell_type": "code",
   "execution_count": 5,
   "metadata": {},
   "outputs": [
    {
     "data": {
      "text/plain": [
       "brainwt               0.005\n",
       "bodywt                 0.14\n",
       "animal     African_elephant\n",
       "dtype: object"
      ]
     },
     "execution_count": 5,
     "metadata": {},
     "output_type": "execute_result"
    }
   ],
   "source": [
    "animals.min()"
   ]
  },
  {
   "cell_type": "code",
   "execution_count": 4,
   "metadata": {},
   "outputs": [
    {
     "data": {
      "text/plain": [
       "brainwt                  6654.18\n",
       "bodywt                   5711.86\n",
       "animal     Yellow-bellied_marmot\n",
       "dtype: object"
      ]
     },
     "execution_count": 4,
     "metadata": {},
     "output_type": "execute_result"
    }
   ],
   "source": [
    "animals.max()"
   ]
  },
  {
   "cell_type": "markdown",
   "metadata": {},
   "source": [
    "**Todo esto está muy bien pero, para ser más eficientes, solemos utilizar la función describe()**..."
   ]
  },
  {
   "cell_type": "code",
   "execution_count": 3,
   "metadata": {},
   "outputs": [
    {
     "data": {
      "text/html": [
       "<div>\n",
       "<style scoped>\n",
       "    .dataframe tbody tr th:only-of-type {\n",
       "        vertical-align: middle;\n",
       "    }\n",
       "\n",
       "    .dataframe tbody tr th {\n",
       "        vertical-align: top;\n",
       "    }\n",
       "\n",
       "    .dataframe thead th {\n",
       "        text-align: right;\n",
       "    }\n",
       "</style>\n",
       "<table border=\"1\" class=\"dataframe\">\n",
       "  <thead>\n",
       "    <tr style=\"text-align: right;\">\n",
       "      <th></th>\n",
       "      <th>brainwt</th>\n",
       "      <th>bodywt</th>\n",
       "    </tr>\n",
       "  </thead>\n",
       "  <tbody>\n",
       "    <tr>\n",
       "      <th>count</th>\n",
       "      <td>62.000000</td>\n",
       "      <td>62.000000</td>\n",
       "    </tr>\n",
       "    <tr>\n",
       "      <th>mean</th>\n",
       "      <td>198.794290</td>\n",
       "      <td>283.135355</td>\n",
       "    </tr>\n",
       "    <tr>\n",
       "      <th>std</th>\n",
       "      <td>899.182313</td>\n",
       "      <td>930.278876</td>\n",
       "    </tr>\n",
       "    <tr>\n",
       "      <th>min</th>\n",
       "      <td>0.005000</td>\n",
       "      <td>0.140000</td>\n",
       "    </tr>\n",
       "    <tr>\n",
       "      <th>25%</th>\n",
       "      <td>0.600000</td>\n",
       "      <td>4.250000</td>\n",
       "    </tr>\n",
       "    <tr>\n",
       "      <th>50%</th>\n",
       "      <td>3.342500</td>\n",
       "      <td>17.250000</td>\n",
       "    </tr>\n",
       "    <tr>\n",
       "      <th>75%</th>\n",
       "      <td>48.201250</td>\n",
       "      <td>165.998250</td>\n",
       "    </tr>\n",
       "    <tr>\n",
       "      <th>max</th>\n",
       "      <td>6654.180000</td>\n",
       "      <td>5711.860000</td>\n",
       "    </tr>\n",
       "  </tbody>\n",
       "</table>\n",
       "</div>"
      ],
      "text/plain": [
       "           brainwt       bodywt\n",
       "count    62.000000    62.000000\n",
       "mean    198.794290   283.135355\n",
       "std     899.182313   930.278876\n",
       "min       0.005000     0.140000\n",
       "25%       0.600000     4.250000\n",
       "50%       3.342500    17.250000\n",
       "75%      48.201250   165.998250\n",
       "max    6654.180000  5711.860000"
      ]
     },
     "execution_count": 3,
     "metadata": {},
     "output_type": "execute_result"
    }
   ],
   "source": [
    "animals.describe()"
   ]
  },
  {
   "cell_type": "markdown",
   "metadata": {},
   "source": [
    "...**y algunas visualizaciones básicas con la biblioteca matplotlib**:"
   ]
  },
  {
   "cell_type": "markdown",
   "metadata": {},
   "source": [
    "### Visualizaciones"
   ]
  },
  {
   "cell_type": "markdown",
   "metadata": {},
   "source": [
    "- *Diagramas de caja, Boxplot*"
   ]
  },
  {
   "cell_type": "markdown",
   "metadata": {},
   "source": [
    "Los diagramas de caja son una visualización de una distribución de un conjunto de datos basado en un resumen de 5 números: mínimo, percentil 25, media, mediana, percentil 75 y máximo.\n",
    "\n",
    "Los datos entre los percentiles 25 y 75 se dibujan dentro de la caja. Dibujamos un límite fuera de la caja llamada los bigotes. Los diagramas de caja también indican cuán extremos son los valores extremos al trazarlos como puntos individuales.\n",
    "\n",
    "Esta gráfica nos da un resumen visual de los datos y muestra si los datos son simétricos o no, confirmando lo que hemos dicho antes."
   ]
  },
  {
   "cell_type": "code",
   "execution_count": 12,
   "metadata": {},
   "outputs": [
    {
     "data": {
      "image/png": "[encoded data removed]",
      "text/plain": [
       "<Figure size 432x288 with 1 Axes>"
      ]
     },
     "metadata": {
      "needs_background": "light"
     },
     "output_type": "display_data"
    }
   ],
   "source": [
    "import matplotlib\n",
    "%matplotlib inline\n",
    "\n",
    "animals.boxplot();"
   ]
  },
  {
   "cell_type": "markdown",
   "metadata": {},
   "source": [
    "- *Histogramas*"
   ]
  },
  {
   "cell_type": "markdown",
   "metadata": {},
   "source": [
    "Los histogramas son una buena manera de ver la distribución de frecuencia de nuestro conjunto de datos. El número de bins predeterminado en Pandas es 10. También lo podemos determinar manualmente  pasando el número de bins a la función."
   ]
  },
  {
   "cell_type": "code",
   "execution_count": 13,
   "metadata": {},
   "outputs": [
    {
     "data": {
      "image/png": "[encoded data removed]",
      "text/plain": [
       "<Figure size 432x288 with 2 Axes>"
      ]
     },
     "metadata": {
      "needs_background": "light"
     },
     "output_type": "display_data"
    }
   ],
   "source": [
    "animals.hist();"
   ]
  },
  {
   "cell_type": "code",
   "execution_count": 14,
   "metadata": {},
   "outputs": [
    {
     "data": {
      "image/png": "[encoded data removed]",
      "text/plain": [
       "<Figure size 432x288 with 2 Axes>"
      ]
     },
     "metadata": {
      "needs_background": "light"
     },
     "output_type": "display_data"
    }
   ],
   "source": [
    "animals.hist(bins = 20);"
   ]
  },
  {
   "cell_type": "markdown",
   "metadata": {},
   "source": [
    "Estos dos histogramas nos dicen que la mayor parte de los datos se encuentran en el extremo izquierdo y que tenemos unos cuantos outliers."
   ]
  }
 ],
 "metadata": {
  "kernelspec": {
   "display_name": "Python 3",
   "language": "python",
   "name": "python3"
  },
  "language_info": {
   "codemirror_mode": {
    "name": "ipython",
    "version": 3
   },
   "file_extension": ".py",
   "mimetype": "text/x-python",
   "name": "python",
   "nbconvert_exporter": "python",
   "pygments_lexer": "ipython3",
   "version": "3.7.3"
  }
 },
 "nbformat": 4,
 "nbformat_minor": 2
}
