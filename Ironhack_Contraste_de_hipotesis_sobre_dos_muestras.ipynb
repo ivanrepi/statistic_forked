{
 "cells": [
  {
   "cell_type": "markdown",
   "metadata": {},
   "source": [
    "# Contrastes de hipótesis sobre dos muestras\n",
    "## Objetivos de la sesión\n",
    "En esta sección continuaremos explorando los contrastes de hipótesis y aprenderemos a realizar pruebas con dos muestras de datos.\n",
    "\n",
    "## Introducción\n",
    "Es común que los investigadores realicen estudios para comparar dos grupos y comprobar si se comportan de manera diferente. Un ejemplo es aplicar un tratamiento a un grupo mientras que otro se deja sin tratar. Luego se comparan los resultados para ver si los dos grupos difieren. Los contrastes de hipótesis son herramientas imprescindibles en estos problemas, en los que necesitamos utilizar la estadística para fundamentar la toma de decisiones. En esta lección aprenderemos sobre las diferentes maneras en que podemos comparar dos muestras para ver si difieren significativamente.\n",
    "\n",
    "## Muestras relacionadas\n",
    "Cuando nos enfocamos en un contraste de hipótesis de dos muestras, primero debemos determinar qué tipo de datos tenemos. El primer tipo de contraste de hipótesis de 2 muestras que vamos a realizar es el de dos muestras relacionadas. Esto significa que los datos de los dos muestreos son dependientes. Por ejemplo, en un ensayo clínico de medicamentos, podemos administrar un medicamento para la presión arterial a un grupo de personas y examinar su presión arterial antes y después del tratamiento. Luego trataremos el antes y el después como dos muestras y las compararemos. \n",
    "\n",
    "### Un poco de teoría\n",
    "Dado que podemos comparar los datos entre las muestras, tomamos la diferencia entre las dos muestras en cada fila y luego volvemos a realizar el contraste de hipótesis sobre una muestra. Nuestro contraste de hipótesis comprobará si la media de las diferencias es significativamente diferente de cero (también podríamos probar que la media es mayor o menor que cero utilizando un contraste de hipótesis unilateral). Para un contraste de hipótesis bilateral, las hipótesis nula y alternativa son las siguientes:\n",
    "\n",
    "${H}_{0}: {\\mu}_{d} = 0$\n",
    "\n",
    "${H}_{1}: {\\mu}_{d} ≠ 0$"
   ]
  },
  {
   "cell_type": "markdown",
   "metadata": {},
   "source": [
    "### Muestras relacionadas en Python\n",
    "En nuestro ejemplo veremos un estudio de presión arterial con 100 participantes. A todos nuestros participantes se les midió la presión arterial antes del inicio del estudio y un mes después del inicio del mismo. Compararemos la presión arterial sistólica de los participantes antes y después.\n",
    "\n",
    "Empecemos por mirar nuestro conjunto de datos. El archivo blood_pressure.csv se puede descargar [aquí](https://s3-eu-west-1.amazonaws.com/ih-materials/uploads/data-static/data/module-2/blood_pressure.csv)."
   ]
  },
  {
   "cell_type": "code",
   "execution_count": 2,
   "metadata": {},
   "outputs": [
    {
     "data": {
      "text/html": [
       "<div>\n",
       "<style scoped>\n",
       "    .dataframe tbody tr th:only-of-type {\n",
       "        vertical-align: middle;\n",
       "    }\n",
       "\n",
       "    .dataframe tbody tr th {\n",
       "        vertical-align: top;\n",
       "    }\n",
       "\n",
       "    .dataframe thead th {\n",
       "        text-align: right;\n",
       "    }\n",
       "</style>\n",
       "<table border=\"1\" class=\"dataframe\">\n",
       "  <thead>\n",
       "    <tr style=\"text-align: right;\">\n",
       "      <th></th>\n",
       "      <th>before</th>\n",
       "      <th>after</th>\n",
       "    </tr>\n",
       "  </thead>\n",
       "  <tbody>\n",
       "    <tr>\n",
       "      <th>0</th>\n",
       "      <td>136.713072</td>\n",
       "      <td>92.432965</td>\n",
       "    </tr>\n",
       "    <tr>\n",
       "      <th>1</th>\n",
       "      <td>134.735618</td>\n",
       "      <td>105.022643</td>\n",
       "    </tr>\n",
       "    <tr>\n",
       "      <th>2</th>\n",
       "      <td>127.529115</td>\n",
       "      <td>82.242766</td>\n",
       "    </tr>\n",
       "    <tr>\n",
       "      <th>3</th>\n",
       "      <td>144.527126</td>\n",
       "      <td>93.607172</td>\n",
       "    </tr>\n",
       "    <tr>\n",
       "      <th>4</th>\n",
       "      <td>124.214720</td>\n",
       "      <td>103.212223</td>\n",
       "    </tr>\n",
       "  </tbody>\n",
       "</table>\n",
       "</div>"
      ],
      "text/plain": [
       "       before       after\n",
       "0  136.713072   92.432965\n",
       "1  134.735618  105.022643\n",
       "2  127.529115   82.242766\n",
       "3  144.527126   93.607172\n",
       "4  124.214720  103.212223"
      ]
     },
     "execution_count": 2,
     "metadata": {},
     "output_type": "execute_result"
    }
   ],
   "source": [
    "import pandas as pd\n",
    "\n",
    "blood_pressure = pd.read_csv('./data/blood_pressure.csv')\n",
    "blood_pressure.head()"
   ]
  },
  {
   "cell_type": "markdown",
   "metadata": {},
   "source": [
    "Usaremos la función de `scipy` llamada `ttest_rel`. Esta función se utiliza para el contraste de hipótesis de variables relacionadas."
   ]
  },
  {
   "cell_type": "code",
   "execution_count": 3,
   "metadata": {},
   "outputs": [
    {
     "data": {
      "text/plain": [
       "Ttest_relResult(statistic=-27.291841767560236, pvalue=7.303035069608042e-48)"
      ]
     },
     "execution_count": 3,
     "metadata": {},
     "output_type": "execute_result"
    }
   ],
   "source": [
    "from scipy.stats import ttest_rel\n",
    "\n",
    "ttest_rel(blood_pressure.after, blood_pressure.before)"
   ]
  },
  {
   "cell_type": "markdown",
   "metadata": {},
   "source": [
    "Nuestro resultado es un valor p muy pequeño. Esto significa que rechazaremos la hipótesis nula.\n",
    "\n",
    "Dado que un contraste de variables relacionadas es equivalente a un contraste sobre una muestra utilizando la diferencia, también podemos realizar una prueba de una muestra y obtener exactamente el mismo resultado."
   ]
  },
  {
   "cell_type": "code",
   "execution_count": 4,
   "metadata": {},
   "outputs": [
    {
     "data": {
      "text/plain": [
       "Ttest_1sampResult(statistic=-27.291841767560236, pvalue=7.303035069608042e-48)"
      ]
     },
     "execution_count": 4,
     "metadata": {},
     "output_type": "execute_result"
    }
   ],
   "source": [
    "from scipy.stats import ttest_1samp\n",
    "ttest_1samp(blood_pressure.after-blood_pressure.before, 0)"
   ]
  },
  {
   "cell_type": "markdown",
   "metadata": {},
   "source": [
    "Podemos ver que el valor p es idéntico ya que las pruebas son equivalentes."
   ]
  },
  {
   "cell_type": "markdown",
   "metadata": {},
   "source": [
    "## Muestras independientes\n",
    "El segundo tipo de contraste de hipótesis es sobre dos muestras independientes. En este caso, tenemos dos grupos en los que no podemos emparejar las filas entre sí. Por ejemplo, comparamos el efecto de un determinado medicamento en una muestra de hombres y una muestra de mujeres. Luego realizamos un contraste de hipótesis para ver si hay una diferencia significativa en la forma en que la medicación afecta a los grupos. Otro ejemplo es un test A/B en un sitio web. Podemos implementar una serie de cambios en la interfaz de usuario de un sitio web de comercio electrónico. Publicaremos la versión A para una muestra de clientes y la versión B para otra muestra. A continuación, comprobaremos si hay una diferencia en los ingresos entre las diferentes muestras.\n",
    "\n",
    "### Un poco de teoría\n",
    "Al examinar dos muestras independientes, debemos comprobar que se cumplen algunos supuestos. El primer supuesto es, obviamente, la independencia. Un ejemplo de lo que podría causar una dependencia entre dos grupos es si tuviéramos un estudio sobre el impacto de la nutrición en la salud y tuviéramos un marido en un grupo y una mujer en el otro. Aunque no son la misma persona, lo más probable es que vivan en el mismo hogar. Por lo tanto, hay algunas cosas que hacen que pueden ser similares como hábitos de sueño o hábitos de desplazamiento. Como investigadores, cuando esto sucede, no podemos estar seguros de si la intervención en nuestro estudio fue la causa principal de la diferencia (o similitud) entre los sujetos.\n",
    "\n",
    "En un contraste de 2 muestras independientes, nuestro contraste de hipótesis (para un contraste bilateral) es una comparación de las medias de los dos grupos.\n",
    "\n",
    "${H}_{0}: {\\mu}_{1} = {\\mu}_{2}$\n",
    "\n",
    "${H}_{1}: {\\mu}_{1} ≠ {\\mu}_{2}$\n",
    "\n",
    "También debemos asumir que las muestras fueron tomadas al azar de una población normalmente distribuida.\n",
    "\n",
    "### Varianzas iguales\n",
    "Si suponemos además que las varianzas de las dos poblaciones son iguales, podemos utilizar una desviación estándar común en nuestro contraste de hipótesis.\n",
    "\n",
    "En scipy, esto significa que estaremos configurando `equal_var=True` en nuestra función.\n",
    "\n",
    "El siguiente es un ejemplo de un contraste de hipótesis de 2 muestras con la misma varianza. Cargaremos un conjunto de datos sobre cantidades de transacciones desde un sitio web de comercio electrónico. El conjunto de datos ab_test.csv se puede descargar [aquí](https://s3-eu-west-1.amazonaws.com/ih-materials/uploads/data-static/data/module-2/ab_test.csv)."
   ]
  },
  {
   "cell_type": "code",
   "execution_count": 3,
   "metadata": {},
   "outputs": [
    {
     "data": {
      "text/html": [
       "<div>\n",
       "<style scoped>\n",
       "    .dataframe tbody tr th:only-of-type {\n",
       "        vertical-align: middle;\n",
       "    }\n",
       "\n",
       "    .dataframe tbody tr th {\n",
       "        vertical-align: top;\n",
       "    }\n",
       "\n",
       "    .dataframe thead th {\n",
       "        text-align: right;\n",
       "    }\n",
       "</style>\n",
       "<table border=\"1\" class=\"dataframe\">\n",
       "  <thead>\n",
       "    <tr style=\"text-align: right;\">\n",
       "      <th></th>\n",
       "      <th>a</th>\n",
       "      <th>b</th>\n",
       "    </tr>\n",
       "  </thead>\n",
       "  <tbody>\n",
       "    <tr>\n",
       "      <th>0</th>\n",
       "      <td>0.27</td>\n",
       "      <td>13.61</td>\n",
       "    </tr>\n",
       "    <tr>\n",
       "      <th>1</th>\n",
       "      <td>6.08</td>\n",
       "      <td>21.53</td>\n",
       "    </tr>\n",
       "    <tr>\n",
       "      <th>2</th>\n",
       "      <td>13.74</td>\n",
       "      <td>9.23</td>\n",
       "    </tr>\n",
       "    <tr>\n",
       "      <th>3</th>\n",
       "      <td>9.70</td>\n",
       "      <td>5.36</td>\n",
       "    </tr>\n",
       "    <tr>\n",
       "      <th>4</th>\n",
       "      <td>7.00</td>\n",
       "      <td>12.90</td>\n",
       "    </tr>\n",
       "  </tbody>\n",
       "</table>\n",
       "</div>"
      ],
      "text/plain": [
       "       a      b\n",
       "0   0.27  13.61\n",
       "1   6.08  21.53\n",
       "2  13.74   9.23\n",
       "3   9.70   5.36\n",
       "4   7.00  12.90"
      ]
     },
     "execution_count": 3,
     "metadata": {},
     "output_type": "execute_result"
    }
   ],
   "source": [
    "ab_test = pd.read_csv('./data/ab_test.csv')\n",
    "ab_test.head()"
   ]
  },
  {
   "cell_type": "markdown",
   "metadata": {},
   "source": [
    "Las filas no coinciden y los datos no se almacenan en ningún orden.\n",
    "\n",
    "Asumimos que las varianzas de ambas poblaciones son iguales en base al conocimiento previo de los datos. Ahora probaremos que hay una diferencia significativa entre los diseños de los sitios web con un 95% de confianza."
   ]
  },
  {
   "cell_type": "code",
   "execution_count": 4,
   "metadata": {},
   "outputs": [
    {
     "data": {
      "text/plain": [
       "Ttest_indResult(statistic=-2.637533181209767, pvalue=0.009713140852447347)"
      ]
     },
     "execution_count": 4,
     "metadata": {},
     "output_type": "execute_result"
    }
   ],
   "source": [
    "from scipy.stats import ttest_ind\n",
    "\n",
    "ttest_ind(ab_test.a, ab_test.b, equal_var=True)"
   ]
  },
  {
   "cell_type": "markdown",
   "metadata": {},
   "source": [
    "Nuestro valor p es muy pequeño. Esto significa que hay una diferencia significativa entre las dos medias de la muestra."
   ]
  },
  {
   "cell_type": "markdown",
   "metadata": {},
   "source": [
    "### Desigualdad de Varianzas\n",
    "Cuando no estemos seguros de que podemos asumir la igualdad de varianzas con seguridad, podemos utilizar una prueba más robusta. En lugar de usar una prueba con varianza común, usamos una prueba llamada prueba t de Welch. Esta prueba se considera robusta ya que no necesita hacer tantas suposiciones sobre los datos.\n",
    "\n",
    "Utilicemos nuestros datos de test A/B para realizar un test t que no requiera la asunción del supuesto:"
   ]
  },
  {
   "cell_type": "code",
   "execution_count": 7,
   "metadata": {},
   "outputs": [
    {
     "data": {
      "text/plain": [
       "Ttest_indResult(statistic=-2.637533181209767, pvalue=0.009776243024828825)"
      ]
     },
     "execution_count": 7,
     "metadata": {},
     "output_type": "execute_result"
    }
   ],
   "source": [
    "ttest_ind(ab_test.a, ab_test.b, equal_var=False)"
   ]
  },
  {
   "cell_type": "markdown",
   "metadata": {},
   "source": [
    "En este caso, el valor p difiere ligeramente del que obtenemos con varianzas iguales. Sin embargo, dado que es muy pequeña también en este caso, rechazaremos la hipótesis nula y concluiremos que existe una diferencia significativa entre los dos promedios"
   ]
  },
  {
   "cell_type": "markdown",
   "metadata": {},
   "source": [
    "## Resumen\n",
    "\n",
    "En esta sección hemos aprendido a realizar contrastes de hipótesis sobre dos muestras. En primer lugar sobre dos muestras relacionadas y en segundo lugar con dos muestras indepedientes. Los contrastes de hipótesis son una herramienta importante en muchas áreas de negocios e investigación. Por lo tanto, es importante dominarlos y saber distinguir entre los diferentes tipos de pruebas."
   ]
  },
  {
   "cell_type": "markdown",
   "metadata": {},
   "source": [
    "## Supuesto de Normalidad\n",
    "Además del supuesto de varianzas iguales en el contraste de dos muestras independientes, cuando realizamos cualquier contraste de hipótesis paramétrico (pruebas t o F), debemos ser capaces de asumir normalidad para todas las variables del contraste. En el caso de dos muestras relacionadas, las muestras deben comportarse normalmente en los dos momentos temporales en los que recopilamos la información, y para el caso de dos muestras independientes, estan deben ser normales para ambos grupos. Para poder asumir normalidad en nuestras distribuciones vamos a llevar a cabo otro contraste de hipotesis distinto llamado K-S test o prueba de Kolmogorov-Smirnov. En este contraste de hipótesis comprobamos si la distribución de nuestras variables difieren significativamente o no de una distribución normal, siendo:\n",
    "\n",
    "${H}_{0}:$ La distribución de la variable es normal\n",
    "\n",
    "${H}_{1}:$ La distribución de la variable NO es normal\n",
    "\n",
    "Por suerte, scipy nos proporciona una función llamada `kstest` que nos permite comprobar la normalidad de nuestras variables fácilmente. Utilicemos por ejemplo el dataset de e-commerce:"
   ]
  },
  {
   "cell_type": "code",
   "execution_count": 14,
   "metadata": {},
   "outputs": [
    {
     "data": {
      "text/plain": [
       "KstestResult(statistic=0.9155808147197775, pvalue=4.2024515286023e-54)"
      ]
     },
     "execution_count": 14,
     "metadata": {},
     "output_type": "execute_result"
    }
   ],
   "source": [
    "from scipy.stats import kstest\n",
    "\n",
    "kstest(ab_test.a, 'norm')"
   ]
  },
  {
   "cell_type": "markdown",
   "metadata": {},
   "source": [
    "Según la prueba k-s podemos confirmar que nuestra variable no se comporta de manera normal. En este caso concreto deberíamos trabajar con estadísticos no paramétricos para hacer los contrastes de hipótesis sobre dos muestras independientes, en concreto la U de Mann-Whitney."
   ]
  },
  {
   "cell_type": "markdown",
   "metadata": {},
   "source": [
    "Recursos para ampliar el temario de contraste de hipótesis sobre una y dos muestras:\n",
    "* [Una muestra](https://drive.google.com/file/d/1kvPF4onQJ6UI5_BniPb-dR2VeIMB25xq/view?usp=sharing)\n",
    "* [Dos muestras](https://drive.google.com/file/d/1rdzBFHbFPWP47BqIvOlESHVWNtlZu84R/view?usp=sharing)"
   ]
  }
 ],
 "metadata": {
  "kernelspec": {
   "display_name": "Python 3",
   "language": "python",
   "name": "python3"
  },
  "language_info": {
   "codemirror_mode": {
    "name": "ipython",
    "version": 3
   },
   "file_extension": ".py",
   "mimetype": "text/x-python",
   "name": "python",
   "nbconvert_exporter": "python",
   "pygments_lexer": "ipython3",
   "version": "3.7.3"
  }
 },
 "nbformat": 4,
 "nbformat_minor": 2
}
