{
 "cells": [
  {
   "cell_type": "markdown",
   "metadata": {},
   "source": [
    "# Probabilidad"
   ]
  },
  {
   "cell_type": "code",
   "execution_count": 8,
   "metadata": {},
   "outputs": [],
   "source": [
    "import numpy as np\n",
    "import pandas as pd\n",
    "import matplotlib.pyplot as plt\n",
    "%matplotlib inline"
   ]
  },
  {
   "cell_type": "markdown",
   "metadata": {},
   "source": [
    "## Introducción"
   ]
  },
  {
   "cell_type": "markdown",
   "metadata": {},
   "source": [
    "La probabilidad es una medida de la incertidumbre. En algunos casos, las propiedades físicas nos permiten obtener una estimación exacta de la probabilidad de que ocurra un evento, en otros casos no.\n",
    "\n",
    "*¿Podemos utilizar la probabilidad para medir cualquier incertidumbre?* MI respuesta es sí, la cuestión es qué grado de precisión podemos aportar.\n",
    "\n",
    "De aquí aparecen distintos enfoques.\n",
    "\n",
    "**Enfoque clásico**: la probabilidad de que ocurra un evento es el cociente entre el número de casos favorables y el número de casos posibles si todos son igualmente verosímiles. Siempre está entre 0 y 1. Se basa en los datos que tenemos.\n",
    "\n",
    "                                            P(A) = n(A) / n(S)\n",
    "\n",
    "        Ejemplo: \n",
    "            - Probabilidad de obtener un 4 al lanzar una vez un dado = 1/6\n",
    "            - Probabilidad de obtener 4, 5 y 1 al lanzar una vez 3 dados = 1/6 * 1/6 * 1/6 = 1/216"
   ]
  },
  {
   "cell_type": "code",
   "execution_count": 9,
   "metadata": {},
   "outputs": [
    {
     "name": "stdout",
     "output_type": "stream",
     "text": [
      "0.16666666666666666\n"
     ]
    }
   ],
   "source": [
    "def get_a_four(x):\n",
    "    return(x == 4)\n",
    "\n",
    "sample_space = [1, 2, 3, 4, 5, 6]\n",
    "die_sides = len(sample_space)\n",
    "success_cases = len([x for x in sample_space if get_a_four(x)])\n",
    "get_a_four_probability = success_cases / die_sides\n",
    "print(get_a_four_probability)"
   ]
  },
  {
   "cell_type": "markdown",
   "metadata": {},
   "source": [
    "            \n",
    "**Enfoque frecuentista**: la probabilidad de que ocurra un evento es el cociente de la frecuencia observada del suceso cuando el experimento see realiza muchas veces. Excluye sucesos que no se pueden reptir y es 100% empírica. Se basa en los datos que tenemos.\n",
    "\n",
    "                     P(A) = número de veces que ocurre A / número de experimentos o de intentos\n",
    "                     \n",
    "        Ejemplo: Lanzar moneda. ¿Cara o cruz?\n",
    "\n",
    "| Lanzar moneda | 30 veces      | 50 veces     | 100 veces     |\n",
    "|---------------|---------------|--------------|---------------|\n",
    "| Cara          | 11            | 19           | 47            |\n",
    "| Frecuencia    | 11/30 = 0.366 | 19/50 = 0.38 | 47/100 = 0.47 |\n",
    "\n",
    "**Enfoque bayesiano o subjetivo**: la probabilidad es el grado de creencia o juicio personal. La información que tenemos nos enriquece los cálculos, es decir, no solo se basa el cálculo en los datos que tenemos, también se basa en la información extra que poseemos.\n",
    "\n",
    "\n",
    "        "
   ]
  },
  {
   "cell_type": "markdown",
   "metadata": {},
   "source": [
    "## Conceptos clave"
   ]
  },
  {
   "cell_type": "markdown",
   "metadata": {},
   "source": [
    "- **Fenómeno aleatorio**: en las mismas condiciones iniciales, se producen distintos resultados finales. Como en el lanzamiento de un dado.\n",
    "\n",
    "\n",
    "- **Evento aleatorio**: conjunto de posibles resultados que puede dar un experimento aleatorio.\n",
    "\n",
    "\n",
    "- **Espacio muestral (Ω)**: todos los resultados posibles de un experimento. En el lanzamiento de un dado, Ω = {1,2,3,4,5,6}.\n",
    "\n",
    "\n",
    "- **Independencia**: dos o más eventos son independientes cuando la probabilidad de que ocurra uno de ellos no se ve afectada porque el otro ocurra. Como sacar 1 y 5 lanzando dos dados. De lo contrario, trataríamos con probabilidades condicionales.\n",
    "\n",
    "\n",
    "- **Ley de los grandes números**:  si se repite un experimento aleatorio, bajo las mismas condiciones, un número ilimitado de veces; y si estas repeticiones son independientes la una de la otra, entonces la frecuencia de veces que un evento A ocurra, convergerá con probabilidad 1 a un número que es igual a la probabilidad de que A ocurra en una sola repetición del experimento. Vamos a ver un ejemplo en código:\n"
   ]
  },
  {
   "cell_type": "code",
   "execution_count": 10,
   "metadata": {},
   "outputs": [
    {
     "data": {
      "image/png": "[encoded data removed]",
      "text/plain": [
       "<Figure size 576x432 with 1 Axes>"
      ]
     },
     "metadata": {
      "needs_background": "light"
     },
     "output_type": "display_data"
    }
   ],
   "source": [
    "# Ejemplo ley de grandes números\n",
    "# moneda p=1/2 cara=1 cruz=0\n",
    "resultados = []\n",
    "for lanzamientos in range(1,10000):\n",
    "    lanzamientos = np.random.choice([0,1], lanzamientos) \n",
    "    caras = lanzamientos.mean()\n",
    "    resultados.append(caras)\n",
    "\n",
    "# gráficamente\n",
    "df = pd.DataFrame({ 'lanzamientos' : resultados})\n",
    "\n",
    "df.plot(title='Ley de grandes números',color='r',figsize=(8, 6))\n",
    "plt.axhline(0.5)\n",
    "plt.xlabel(\"Número de lanzamientos\")\n",
    "plt.ylabel(\"frecuencia caras\")\n",
    "plt.show()"
   ]
  },
  {
   "cell_type": "markdown",
   "metadata": {},
   "source": [
    "## Cálculo de probabilidades"
   ]
  },
  {
   "cell_type": "markdown",
   "metadata": {},
   "source": [
    "Antes de ponernos a calcular las probabilidades tenemos que conocer las propiedades básicas de la probabilidad y tenemos que saber identificar las relaciones que pueden guardar varios eventos entre sí."
   ]
  },
  {
   "cell_type": "markdown",
   "metadata": {},
   "source": [
    "### Axiomas de la probabilidad\n",
    "- La probabilidad de que ocurra un evento será un ratio cuyo valor se sitúe entre 0 y 1.\n",
    "\n",
    "                                        0≤p(A)≤1\n",
    "\n",
    "- La probabilidad total o la probabilidad de que ocurra un evento con total certeza será igual a 1.\n",
    "                                        \n",
    "                                        p(S)=1\n",
    "                                        \n",
    "- Si el evento A y el B son mutuamente excluyentes, es decir, si se da uno no puede darse el otro, entonces:\n",
    "                                        \n",
    "                                 p(A ∪ B)= p(A) + p(B)"
   ]
  },
  {
   "cell_type": "markdown",
   "metadata": {},
   "source": [
    "                                        \n",
    "### Álgebra de conjuntos en la probabilidad\n",
    "\n",
    "Para entender la relación entre varios eventos y ser capaces de calcular sus probabilidades debemos conocer:\n",
    "\n",
    "##### Unión : la unión de varios eventos simples crea un evento compuesto que ocurre si uno o más de los eventos ocurren.\n",
    "                              \n",
    "                              A o B => A ∪ B => \"Ocurre A y/o B\"   \n",
    "                              \n",
    "                  Ejemplo. Tirar dado. Ocurre A y/o B. No son mutuamente excluyentes\n",
    "                  \n",
    "                  - Evento A: Cae impar => Evento A = {1,3,5}\n",
    "                  - Evento B: Cae mayor que 4 => Evento B = {5,6}\n",
    "                  \n",
    "                             Evento A U B = {1,3,5,6}\n",
    "                             \n",
    "                          p(A ∪ B) = p(A) + p(B) − p(A ∩ B) \n",
    "                          \n",
    "    - Unión en eventos mutuamente excluyentes:\n",
    "        - Si sí, p(A U B) = p(A) + p(B)\n",
    "        - Si no, p(A U B) = p(A) + p(B) - p(A U B)\n",
    "        \n",
    "        \n",
    "                          \n",
    "##### Intersección: la intersección de dos o más eventos contiene todos los elementos que están en cada uno de esos eventos.\n",
    "\n",
    "                              A y B => A ∩ B => \"Ocurre A y B\"   \n",
    "                              \n",
    "                  Ejemplo. Tirar dado. Ocurre A y B. Son independientes\n",
    "                  \n",
    "                  - Evento A: Cae impar => Evento A = {1,3,5}\n",
    "                  - Evento B: Cae mayor que 4 => Evento B = {5,6}\n",
    "                  \n",
    "                             Evento A ∩ B = {5}\n",
    "                             \n",
    "                          p(A ∩ B) = p(A) × p(B) \n",
    "\n",
    "\n",
    "    \n",
    "    - Intersección en eventos independientes:\n",
    "        - Si sí, p(A ∩ B) = p(A) × p(B) \n",
    "        - Si no, p(A ∩ B) = p(A) × p(B|A) (Probabilidad condicional)"
   ]
  },
  {
   "cell_type": "markdown",
   "metadata": {},
   "source": [
    "#### Ejemplos"
   ]
  },
  {
   "cell_type": "markdown",
   "metadata": {},
   "source": [
    "1. Ejemplo Eventos mutuamente excluyentes:\n",
    "\n",
    "Tienes 4 invitaciones para una fiesta y tienes que elegir entre 5 amigas y 6 amigos a ver a quién invitas. Lo eliges al azar. ¿Qué probabilidad hay de que invites a más de 2 mujeres?"
   ]
  },
  {
   "cell_type": "code",
   "execution_count": 21,
   "metadata": {},
   "outputs": [
    {
     "data": {
      "text/plain": [
       "330.0"
      ]
     },
     "execution_count": 21,
     "metadata": {},
     "output_type": "execute_result"
    }
   ],
   "source": [
    "#Vamos a necesitar conocer algo de combinatoria simple para resolver este ejercicio\n",
    "#El espacio muestral que voy a utilizar es la combinatoria de 11 personas de las cuales cogeré 4.\n",
    "\n",
    "#import math\n",
    "\n",
    "#sample_space = math.factorial(11) / (math.factorial(4) * math.factorial(11-4))\n",
    "\n",
    "from scipy.special import comb\n",
    "\n",
    "sample_space = comb(11,4)\n",
    "sample_space"
   ]
  },
  {
   "cell_type": "code",
   "execution_count": 44,
   "metadata": {},
   "outputs": [
    {
     "name": "stdout",
     "output_type": "stream",
     "text": [
      "Existen 60 combinaciones en las que ocurre el evento A y 5 en las que ocurre el evento B. Si calculamos sus probabilidades, obtenemos que la P(A)=0.1818 y la P(B)=0.0152\n"
     ]
    }
   ],
   "source": [
    "#Los dos escenarios posibles favorables para que invite a más de dos mujeres son:\n",
    "\n",
    "    #evento A: que invite a 3 mujeres y a un 1 hombre\n",
    "    #evento B: que invite a 4 mujeres\n",
    "\n",
    "a = comb(5,3) * comb(6,1)\n",
    "b = comb(5,4)\n",
    "\n",
    "prob_a = a / sample_space\n",
    "prob_b = b / sample_space\n",
    "\n",
    "print('Existen %d combinaciones en las que ocurre el evento A y %d en las que ocurre el evento B. \\\n",
    "Si calculamos sus probabilidades, obtenemos que la P(A)=%.4f y la P(B)=%.4f' % (a,b, prob_a, prob_b))"
   ]
  },
  {
   "cell_type": "code",
   "execution_count": 45,
   "metadata": {},
   "outputs": [
    {
     "name": "stdout",
     "output_type": "stream",
     "text": [
      "La probabilidad de que invite a más de dos mujeres a la fiesta es de 0.1970\n"
     ]
    }
   ],
   "source": [
    "#Pero estos eventos son mutuamente excluyentes por lo que busco resolver su unión a través de la ecuación\n",
    "#P(A U B) = P(A) + P(B)\n",
    "\n",
    "prob_union = prob_a + prob_b\n",
    "\n",
    "print('La probabilidad de que invite a más de dos mujeres a la fiesta es de %.4f' % prob_union)"
   ]
  },
  {
   "cell_type": "markdown",
   "metadata": {},
   "source": [
    "2. Ejemplo eventos independientes:\n",
    "\n",
    "Tienes 10 cartas en la mano boca abajo. Tres son de picas, 4 de corazones y 3 de diamantes. Pones dos cartas al azar boca arriba y si no son dos diamentes las vuelves a meter en el montón y barajeas. ¿Cuál es la probabilidad de sacar dos diamantes al tercer intento?"
   ]
  },
  {
   "cell_type": "code",
   "execution_count": null,
   "metadata": {},
   "outputs": [],
   "source": [
    "#Evento A: Dos cartas que no son diamantes las dos\n",
    "#Evento B: Dos cartas que no son diamantes las dos\n",
    "#Evento C: Dos cartas que son diamantes las dos\n",
    "#Espacio muestral = 10\n",
    "\n",
    "prob_A\n",
    "prob_B\n",
    "prob_C\n",
    "\n",
    "prob_inters_ABC\n",
    "\n",
    "print('La probabilidad de sacar dos diamantes en la tercera tirada es de %.4f' % prob_inters_ABC)"
   ]
  },
  {
   "cell_type": "markdown",
   "metadata": {},
   "source": [
    "### Probabilidad condicional"
   ]
  },
  {
   "cell_type": "markdown",
   "metadata": {},
   "source": [
    "*¿Qué pasa cuando los eventos son dependientes?*\n",
    "\n",
    "Con frecuencia queremos conocer la probabilidad de algún evento, dado que otro evento ha ocurrido. Ejemplo: ¨Las personas que .... tienen más probabilidades de ... ¨.\n",
    "\n",
    "Esto se conoce como probabilidad condicional, expresa simbólicamente como p(A|B) y se lee como \"la probabilidad de A dado que ha ocurrido B\". El segundo evento se conoce como la condición y el proceso se refiere a veces como \"condicionamiento en B\". Calculamos probabilidades basándonos en los datos del espacio muestral + información adicional. \n",
    "\n",
    "La probabilidad condicional también se puede usar para comprobar la independencia de dos variables si se cumple que:\n",
    "\n",
    "                                     p(A|B)=p(A)\n",
    "                                    \n",
    "                                    P(B|A) = P(B)\n",
    "                                  \n",
    "                                          ó\n",
    "                                  \n",
    "                                  P(A)*P(B) = P(A∩B)\n",
    "      \n",
    "                    \n",
    "Para calcular la probabilidad condicional utilizaremos la siguiente fórmula:\n",
    "\n",
    "                          p(A|B)=p(A∩B)/p(B), siempre que p(B)>0\n",
    "                                           \n",
    "Ejemplo: Tirada de dado. Probabilidad de obtener 4. Como información adicional, sabemos que es par.\n",
    "\n",
    "                  p(4, \"par\")= p(4 y \"par\")/p(\"par\") = p(4)/p({2,4,6}) = 1/6 / 3/6 = 1/3"
   ]
  },
  {
   "cell_type": "markdown",
   "metadata": {},
   "source": [
    "3. Ejemplo probabilidad condicional:\n",
    "\n",
    "Una caja contiene 5 fichas blancas y 4 rojas, 2 fichas son extraídas al azar sin reposición. ¿Cuál es la probabilidad de que la segunda ficha sea blanca si sabemos que la primera es blanca?\n",
    "\n",
    "*Diagrama árbol*"
   ]
  },
  {
   "cell_type": "code",
   "execution_count": 3,
   "metadata": {},
   "outputs": [
    {
     "name": "stdout",
     "output_type": "stream",
     "text": [
      "La probabilidad de que la segunda ficha sea blanca es de 0.5000\n"
     ]
    }
   ],
   "source": [
    "#Espacio muestral = 9\n",
    "#Evento A: La ficha dos es blanca\n",
    "#Evento B: La ficha uno es blanca\n",
    "#Fórmula a aplicar p(A|B)=p(A∩B)/p(B)\n",
    "\n",
    "prob_a = 4/8\n",
    "prob_b = 5/9\n",
    "prob_inters = prob_a * prob_b\n",
    "prob_cond = prob_inters / prob_b\n",
    "\n",
    "print('La probabilidad de que la segunda ficha sea blanca es de %.4f' % prob_cond)"
   ]
  },
  {
   "cell_type": "markdown",
   "metadata": {},
   "source": [
    "### El Teorema de Bayes"
   ]
  },
  {
   "cell_type": "markdown",
   "metadata": {},
   "source": [
    "Con la probabilidad condicional utilizamos información adicional para saber la probabilidad de los efectos dados las causas, pero, muchas veces, lo que queremos saber es la probabilidad de las causas dadas los efectos. Por ejemplo, sabemos cuál es el porcentaje de pacientes con gripe que tiene fiebre, pero lo que realmente queremos saber es la probabilidad de que un paciente con fiebre tenga gripe. El teorema de Bayes nos permite ir de uno a otro con suma facilidad.\n",
    "\n",
    "El Teorema de Bayes nos permite ir de una probabilidad condicional a su alterna con una matemática relativamente simple, porque, recordemos:\n",
    "\n",
    "                    p(A/B) ≠ p(B/A)\n",
    "                    \n",
    "                    \n",
    "Bayes le dió un par de vueltas a la ecuación...\n",
    "\n",
    "        Probabilidad condicional: p(A|B) = p(A∩B)/p(B) ➝ p(A∩B) = p(A|B) * p(B)\n",
    "        Intersección A,B: p(A∩B) = p(A|B) * p(B) \n",
    "        Intersección B,A: p(B∩A) = p(B|A) * p(A)\n",
    "        \n",
    "                        OJO!\n",
    "                    \n",
    "        Intersección A,B = Intersección B,A\n",
    "                         \n",
    "                         ↓\n",
    "                         \n",
    "        p(A|B) * p(B) = p(B|A) * p(A) ➞ p(B|A) = (p(A|B) * p(B)) / p(A) TEOREMA DE BAYES\n",
    "            "
   ]
  },
  {
   "cell_type": "markdown",
   "metadata": {},
   "source": [
    "4. Ejemplo Bayes:\n",
    "\n",
    "Vamos a pensar en la aplicación de la inferencia bayesiana con un simple ejemplo del diagnostico médico, uno de los campos dónde más éxito ha tenido. Supongamos que nos hicimos un estudio y nos ha dado positivo para una rara enfermedad que solo el 0.3 % de la población tiene. La tasa de efectividad de este estudio es del 99 %, es decir, que solo da falsos positivos en el 1 % de los casos. ¿Cuán probable es que realmente tengamos la enfermedad?.\n",
    "\n",
    "En un principio, nos veríamos tentados a responder que hay un 99 % de probabilidad de que tengamos la enfermedad; pero en este caso nos estaríamos olvidando del concepto importante del a priori. Sabemos con anterioridad que la enfermedad es extremadamente rara (solo el 0.3 % la tiene); si incluimos esta información previa en nuestro cálculo de probabilidad y aplicamos el teorema de Bayes podemos llegar a una conclusión totalmente distinta."
   ]
  },
  {
   "cell_type": "code",
   "execution_count": 5,
   "metadata": {},
   "outputs": [
    {
     "data": {
      "text/plain": [
       "0.029502334359789408"
      ]
     },
     "execution_count": 5,
     "metadata": {},
     "output_type": "execute_result"
    }
   ],
   "source": [
    "# El test tiene una probabilidad del 0.99 de acertar (probabilidad de positivo en gente afectada) p(A|B)\n",
    "# Hay una probabilidad del 0.003 de que estemos afectados (información adicional, 'a priori') p(B)\n",
    "# Hay una probabilidad del 0.1 que el test haya fallado\n",
    "# La probabilidad de positivos es la unión de los positivos a gente enferma y de los positivos a gente no enferma;\n",
    "        # p(A) = p(A|B) * p(B) +  ~p(A|B) * ~p(B)\n",
    "# Fórmula Bayes p(B|A) = (p(A|B) * p(B)) / p(A)\n",
    "# Queremos saber la probabilidad condicional de que estemos afectados si nos da positivo p(B|A)\n",
    "prob_b = 0.003\n",
    "prob_cond_de_positivo_a_afectados = 0.99\n",
    "prob_a = 0.99 * 0.003 + 0.1 * 0.977\n",
    "\n",
    "prob_estemos_afectados = (prob_cond_de_positivo_a_afectados * prob_b) / prob_a \n",
    "prob_estemos_afectados"
   ]
  }
 ],
 "metadata": {
  "kernelspec": {
   "display_name": "Python 3",
   "language": "python",
   "name": "python3"
  },
  "language_info": {
   "codemirror_mode": {
    "name": "ipython",
    "version": 3
   },
   "file_extension": ".py",
   "mimetype": "text/x-python",
   "name": "python",
   "nbconvert_exporter": "python",
   "pygments_lexer": "ipython3",
   "version": "3.7.3"
  }
 },
 "nbformat": 4,
 "nbformat_minor": 2
}
