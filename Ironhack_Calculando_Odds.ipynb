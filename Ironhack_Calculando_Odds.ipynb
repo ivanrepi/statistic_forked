{
 "cells": [
  {
   "cell_type": "markdown",
   "metadata": {},
   "source": [
    "# Calculando Odds\n",
    "\n",
    "## Introducción\n",
    "El campo de la probabilidad fue desarrollado específicamente para los juegos de azar. Por lo tanto, es natural que usemos juegos de azar en esta lección. Para decidir si una apuesta vale la pena para nosotros, es beneficioso calcular las probabilidades de un resultado en particular.\n",
    "\n",
    "## Odds\n",
    "Recordemos que la probabilidad de un evento es la relación entre el número de veces que ocurrió un evento y el tamaño del espacio de la muestra. Sin embargo, las odds de un evento es la relación entre la probabilidad de que un evento ocurra y la probabilidad de que un evento no ocurra.\n",
    "\n",
    "Por ejemplo, usando un dado, podemos definir el evento A como el caso en el que obtenemos un número menor a 3 en una tirada.\n",
    "\n",
    "$A = [1,2]$\n",
    "\n",
    "Por lo tanto, $P(A) = 2/6 = 1/3$\n",
    "\n",
    "Podemos utilizar $P(A)$ para calcular su Odds:\n",
    "\n",
    "$Odds(A) = \\frac{P(A)}{1-P(A)}$\n",
    "\n",
    "La odds en este caso es de 1/2. También podemos decir que las probabilidades son 2:1. Significa que por cada 3 tiradas 1 resultará en el evento A y 2 no.\n",
    "\n",
    "Vamos a definir una función Python que calcule las probabilidades y verifique este resultado."
   ]
  },
  {
   "cell_type": "code",
   "execution_count": 1,
   "metadata": {},
   "outputs": [
    {
     "data": {
      "text/plain": [
       "0.49999999999999994"
      ]
     },
     "execution_count": 1,
     "metadata": {},
     "output_type": "execute_result"
    }
   ],
   "source": [
    "def odds(prob):\n",
    "    return(prob/(1-prob))\n",
    "\n",
    "odds(1/3)"
   ]
  },
  {
   "cell_type": "markdown",
   "metadata": {},
   "source": [
    "## Jugando Póquer con Python\n",
    "Usaremos el póquer para aprender más sobre el cálculo de odds. La clave para jugar al póquer es conocer las probabilidades u odds de las diferentes manos para tomar una decisión óptima.\n",
    "\n",
    "### Combinaciones y permutaciones: Una base\n",
    "Para hablar de manos de póquer, primero debemos introducir combinaciones y permutaciones. La manera más eficiente de contar el número de maneras posibles de conseguir una mano es usando combinaciones y permutaciones.\n",
    "\n",
    "#### Combinaciones\n",
    "Una combinación es una selección de un subconjunto de objetos de un conjunto mayor. En una combinación, el orden en el que se seleccionaron los objetos no importa. Una combinación de k elementos de un conjunto de n elementos se conoce como \"n choose k\" y se indica como sigue\n",
    "\n",
    "$\\binom{n}{k} = \\frac{n!}{(n-k)!k!}$\n",
    "\n",
    "La biblioteca Scipy contiene una función para calcular combinaciones llamada comb. Por ejemplo, aquí se computarán 52 y se elegirán 5."
   ]
  },
  {
   "cell_type": "code",
   "execution_count": 11,
   "metadata": {
    "scrolled": true
   },
   "outputs": [
    {
     "data": {
      "text/plain": [
       "2598960.0"
      ]
     },
     "execution_count": 11,
     "metadata": {},
     "output_type": "execute_result"
    }
   ],
   "source": [
    "from scipy.special import comb\n",
    "comb(52, 5)"
   ]
  },
  {
   "cell_type": "markdown",
   "metadata": {},
   "source": [
    "El resultado será el número de posibles combinaciones de 5 elementos que podamos obtener del conjunto superior de n elementos\n",
    "\n",
    "Permutaciones\n",
    "Las permutaciones difieren de las combinaciones en que el orden en que se seleccionan los objetos es importante. Las permutaciones se denotan como\n",
    "\n",
    "$P(n,k) = \\frac{n!}{(n-k)!}$\n",
    "\n",
    "## Cálculo de las odds de diferentes manos de póquer\n",
    "### Escalera Real\n",
    "La mano superior en el póquer es una escalera real. Una escalera real contiene A, K, Q, J y 10, todos del mismo palo.\n",
    "\n",
    "Un mazo de cartas contiene 52 cartas. En una baraja de cartas, tenemos 4 palos donde cada palo contiene 13 cartas. Por lo tanto, para tener una escalera real, debemos seleccionar un palo, así que hay una probabilidad de 1 de 4 de que seleccionemos un palo específico. Solo hay una baraja en el juego, por lo tanto hay un total de 4 escaleras reales posibles.\n",
    "\n",
    "La probabilidad de una escalera real es 4 dividido por el número de todas las manos posibles. Encontramos el número de todas las manos posibles, que es elegir 5 cartas concretas de 54. Por lo tanto, la probabilidad de una escalera real es:\n",
    "\n",
    "$P(escalera real) = \\frac{4}{\\binom{52}{4}} = 0.00000153907$\n",
    "\n",
    "Usando Python podemos calcular la probabilidad y las odds. Usaremos la función de odds que hemos definido previamente en esta lección."
   ]
  },
  {
   "cell_type": "code",
   "execution_count": 12,
   "metadata": {},
   "outputs": [
    {
     "data": {
      "text/plain": [
       "1.5390771693292702e-06"
      ]
     },
     "execution_count": 12,
     "metadata": {},
     "output_type": "execute_result"
    }
   ],
   "source": [
    "royal_flush_prob = 4/comb(52, 5)\n",
    "royal_flush_prob"
   ]
  },
  {
   "cell_type": "code",
   "execution_count": 13,
   "metadata": {},
   "outputs": [
    {
     "data": {
      "text/plain": [
       "1.5390795380914492e-06"
      ]
     },
     "execution_count": 13,
     "metadata": {},
     "output_type": "execute_result"
    }
   ],
   "source": [
    "royal_flush_odds = odds(royal_flush_prob)\n",
    "royal_flush_odds"
   ]
  },
  {
   "cell_type": "markdown",
   "metadata": {},
   "source": [
    "Las odds son 649.739 a 1. Lo que significa que por cada 649.740 manos jugadas, una será una escalera real y el resto no."
   ]
  },
  {
   "cell_type": "markdown",
   "metadata": {},
   "source": [
    "### Escalera de color\n",
    "Una escalera de color es una secuencia de 5 cartas consecutivas del mismo palo que no es una escalera real. Hay 10 secuencias en total, así que debemos calcular el número de secuencias y luego restar el número de escaleras reales a ese número.\n",
    "\n",
    "Para calcular la probabilidad, primero elegimos un palo y luego la secuencia. Hay 4 palos y 10 posibles secuencias. Por lo tanto, la probabilidad de que se produzca una escalera de color es \n",
    "\n",
    "$P(escalera de color) = \\frac{\\binom{4}{1}\\binom{10}{1}-\\binom{4}{1}}{\\binom{52}{5}} = 0.00001385169$"
   ]
  },
  {
   "cell_type": "code",
   "execution_count": 18,
   "metadata": {},
   "outputs": [
    {
     "data": {
      "text/plain": [
       "1.3851694523963431e-05"
      ]
     },
     "execution_count": 18,
     "metadata": {},
     "output_type": "execute_result"
    }
   ],
   "source": [
    "straight_flush_prob = (comb(10,1)*comb(4,1)-comb(4,1))/comb(52,5)\n",
    "straight_flush_prob"
   ]
  },
  {
   "cell_type": "code",
   "execution_count": 19,
   "metadata": {},
   "outputs": [
    {
     "data": {
      "text/plain": [
       "1.385188639606237e-05"
      ]
     },
     "execution_count": 19,
     "metadata": {},
     "output_type": "execute_result"
    }
   ],
   "source": [
    "straight_flush_odds = odds(straight_flush_prob)\n",
    "straight_flush_odds"
   ]
  },
  {
   "cell_type": "markdown",
   "metadata": {},
   "source": [
    "Las odds de una escalera de color son de 72.192 a 1.\n",
    "\n",
    "## Resumen\n",
    "En esta lección aprendimos a calcular probabilidades y odds para un par de manos de póquer diferentes. Para ello, aprendimos sobre combinaciones y permutaciones."
   ]
  },
  {
   "cell_type": "markdown",
   "metadata": {},
   "source": [
    "# Las matemáticas más allá de la regresión logística\n",
    "\n",
    "## Tablas de contingencia\n",
    "\n",
    "Imagínese una situación en la que tenemos un conjunto de datos de un supermercado en línea sobre el género de un cliente y si una persona ha comprado o no un producto en particular. Estamos interesados en saber qué opciones hay para un nuevo cliente que entra en la tienda de comprar o no comprar el producto con sólo conocer su género. Específicamente, nos preguntamos cuál es la probabilidad de que la compra ocurra conociendo su género. \n",
    "\n",
    "Si supiéramos la respuesta a estas preguntas podríamos determinar la probabilidad de compra de un cliente conociendo sólo el sexo. Y si es más probable que lo compre siendo una mujer o un hombre, podríamos actuar de acuerdo a ello.\n",
    "\n",
    "Tenemos un conjunto de datos muy simple preparado para esta sección sobre compras por género. Abrámoslo y empecemos a trabajar:"
   ]
  },
  {
   "cell_type": "code",
   "execution_count": 20,
   "metadata": {},
   "outputs": [],
   "source": [
    "import pandas as pd"
   ]
  },
  {
   "cell_type": "code",
   "execution_count": 22,
   "metadata": {},
   "outputs": [
    {
     "data": {
      "text/html": [
       "<div>\n",
       "<style scoped>\n",
       "    .dataframe tbody tr th:only-of-type {\n",
       "        vertical-align: middle;\n",
       "    }\n",
       "\n",
       "    .dataframe tbody tr th {\n",
       "        vertical-align: top;\n",
       "    }\n",
       "\n",
       "    .dataframe thead th {\n",
       "        text-align: right;\n",
       "    }\n",
       "</style>\n",
       "<table border=\"1\" class=\"dataframe\">\n",
       "  <thead>\n",
       "    <tr style=\"text-align: right;\">\n",
       "      <th></th>\n",
       "      <th>Gender</th>\n",
       "      <th>Purchase</th>\n",
       "    </tr>\n",
       "  </thead>\n",
       "  <tbody>\n",
       "    <tr>\n",
       "      <th>0</th>\n",
       "      <td>Female</td>\n",
       "      <td>Yes</td>\n",
       "    </tr>\n",
       "    <tr>\n",
       "      <th>1</th>\n",
       "      <td>Female</td>\n",
       "      <td>Yes</td>\n",
       "    </tr>\n",
       "    <tr>\n",
       "      <th>2</th>\n",
       "      <td>Female</td>\n",
       "      <td>No</td>\n",
       "    </tr>\n",
       "    <tr>\n",
       "      <th>3</th>\n",
       "      <td>Male</td>\n",
       "      <td>No</td>\n",
       "    </tr>\n",
       "    <tr>\n",
       "      <th>4</th>\n",
       "      <td>Male</td>\n",
       "      <td>Yes</td>\n",
       "    </tr>\n",
       "  </tbody>\n",
       "</table>\n",
       "</div>"
      ],
      "text/plain": [
       "   Gender Purchase\n",
       "0  Female      Yes\n",
       "1  Female      Yes\n",
       "2  Female       No\n",
       "3    Male       No\n",
       "4    Male      Yes"
      ]
     },
     "execution_count": 22,
     "metadata": {},
     "output_type": "execute_result"
    }
   ],
   "source": [
    "genderPurchase = pd.read_csv(\"./data/GenderPurchase.csv\")\n",
    "genderPurchase.head()"
   ]
  },
  {
   "cell_type": "markdown",
   "metadata": {},
   "source": [
    "Sólo tenemos dos variables: el género y la compra o no de un producto. Los datos provienen de una encuesta sobre un producto específico en la entrada de un supermercado en la que se encuesta el género y la compra o no de este producto.\n",
    "\n",
    "**¿Qué hacemos con estos datos?**\n",
    "La herramienta utilizada en las estadísticas para resumir la relación entre estas dos variables categóricas es la tabla de contingencia. Nos informa sobre las proporciones de ocurrencia de eventos entre dos o más variables categóricas. \n",
    "\n",
    "En particular, nuestro caso es muy sencillo ya que sólo tenemos dos variables con dos categorías, por lo que sólo hay cuatro combinaciones. Vamos a crear una tabla de contingencia en Python:"
   ]
  },
  {
   "cell_type": "code",
   "execution_count": 51,
   "metadata": {},
   "outputs": [
    {
     "data": {
      "text/html": [
       "<div>\n",
       "<style scoped>\n",
       "    .dataframe tbody tr th:only-of-type {\n",
       "        vertical-align: middle;\n",
       "    }\n",
       "\n",
       "    .dataframe tbody tr th {\n",
       "        vertical-align: top;\n",
       "    }\n",
       "\n",
       "    .dataframe thead th {\n",
       "        text-align: right;\n",
       "    }\n",
       "</style>\n",
       "<table border=\"1\" class=\"dataframe\">\n",
       "  <thead>\n",
       "    <tr style=\"text-align: right;\">\n",
       "      <th>Purchase</th>\n",
       "      <th>No</th>\n",
       "      <th>Yes</th>\n",
       "    </tr>\n",
       "    <tr>\n",
       "      <th>Gender</th>\n",
       "      <th></th>\n",
       "      <th></th>\n",
       "    </tr>\n",
       "  </thead>\n",
       "  <tbody>\n",
       "    <tr>\n",
       "      <th>Female</th>\n",
       "      <td>106</td>\n",
       "      <td>159</td>\n",
       "    </tr>\n",
       "    <tr>\n",
       "      <th>Male</th>\n",
       "      <td>125</td>\n",
       "      <td>121</td>\n",
       "    </tr>\n",
       "  </tbody>\n",
       "</table>\n",
       "</div>"
      ],
      "text/plain": [
       "Purchase   No  Yes\n",
       "Gender            \n",
       "Female    106  159\n",
       "Male      125  121"
      ]
     },
     "execution_count": 51,
     "metadata": {},
     "output_type": "execute_result"
    }
   ],
   "source": [
    "tableFrec = pd.crosstab(genderPurchase[\"Gender\"], genderPurchase[\"Purchase\"])\n",
    "tableFrec"
   ]
  },
  {
   "cell_type": "markdown",
   "metadata": {},
   "source": [
    "En esta tabla de contingencia ya podemos extraer información. Vemos que 106 mujeres NO compraron el producto en comparación con 159 que lo hicieron, y 125 hombres NO compraron el producto en comparación con 121 que lo hicieron. Puede que nos interese saber cuántos hombres y mujeres entraron a la tienda para obtener las probabilidades."
   ]
  },
  {
   "cell_type": "code",
   "execution_count": 25,
   "metadata": {},
   "outputs": [
    {
     "data": {
      "text/html": [
       "<div>\n",
       "<style scoped>\n",
       "    .dataframe tbody tr th:only-of-type {\n",
       "        vertical-align: middle;\n",
       "    }\n",
       "\n",
       "    .dataframe tbody tr th {\n",
       "        vertical-align: top;\n",
       "    }\n",
       "\n",
       "    .dataframe thead th {\n",
       "        text-align: right;\n",
       "    }\n",
       "</style>\n",
       "<table border=\"1\" class=\"dataframe\">\n",
       "  <thead>\n",
       "    <tr style=\"text-align: right;\">\n",
       "      <th>Purchase</th>\n",
       "      <th>No</th>\n",
       "      <th>Yes</th>\n",
       "      <th>All</th>\n",
       "    </tr>\n",
       "    <tr>\n",
       "      <th>Gender</th>\n",
       "      <th></th>\n",
       "      <th></th>\n",
       "      <th></th>\n",
       "    </tr>\n",
       "  </thead>\n",
       "  <tbody>\n",
       "    <tr>\n",
       "      <th>Female</th>\n",
       "      <td>106</td>\n",
       "      <td>159</td>\n",
       "      <td>265</td>\n",
       "    </tr>\n",
       "    <tr>\n",
       "      <th>Male</th>\n",
       "      <td>125</td>\n",
       "      <td>121</td>\n",
       "      <td>246</td>\n",
       "    </tr>\n",
       "    <tr>\n",
       "      <th>All</th>\n",
       "      <td>231</td>\n",
       "      <td>280</td>\n",
       "      <td>511</td>\n",
       "    </tr>\n",
       "  </tbody>\n",
       "</table>\n",
       "</div>"
      ],
      "text/plain": [
       "Purchase   No  Yes  All\n",
       "Gender                 \n",
       "Female    106  159  265\n",
       "Male      125  121  246\n",
       "All       231  280  511"
      ]
     },
     "execution_count": 25,
     "metadata": {},
     "output_type": "execute_result"
    }
   ],
   "source": [
    "pd.crosstab(genderPurchase[\"Gender\"], genderPurchase[\"Purchase\"], margins=True)"
   ]
  },
  {
   "cell_type": "markdown",
   "metadata": {},
   "source": [
    "También podemos calcular las proporciones. Qué proporción de hombres y mujeres compran y no compran el producto. En este caso podemos utilizar el parámetro `normalize` de la función crosstab de pandas para calcular la probabilidad por columnas (normalize = 'columns') o por filas (normalize = 'index')."
   ]
  },
  {
   "cell_type": "code",
   "execution_count": 49,
   "metadata": {},
   "outputs": [
    {
     "data": {
      "text/html": [
       "<div>\n",
       "<style scoped>\n",
       "    .dataframe tbody tr th:only-of-type {\n",
       "        vertical-align: middle;\n",
       "    }\n",
       "\n",
       "    .dataframe tbody tr th {\n",
       "        vertical-align: top;\n",
       "    }\n",
       "\n",
       "    .dataframe thead th {\n",
       "        text-align: right;\n",
       "    }\n",
       "</style>\n",
       "<table border=\"1\" class=\"dataframe\">\n",
       "  <thead>\n",
       "    <tr style=\"text-align: right;\">\n",
       "      <th>Purchase</th>\n",
       "      <th>No</th>\n",
       "      <th>Yes</th>\n",
       "    </tr>\n",
       "    <tr>\n",
       "      <th>Gender</th>\n",
       "      <th></th>\n",
       "      <th></th>\n",
       "    </tr>\n",
       "  </thead>\n",
       "  <tbody>\n",
       "    <tr>\n",
       "      <th>Female</th>\n",
       "      <td>0.400000</td>\n",
       "      <td>0.600000</td>\n",
       "    </tr>\n",
       "    <tr>\n",
       "      <th>Male</th>\n",
       "      <td>0.508130</td>\n",
       "      <td>0.491870</td>\n",
       "    </tr>\n",
       "    <tr>\n",
       "      <th>All</th>\n",
       "      <td>0.452055</td>\n",
       "      <td>0.547945</td>\n",
       "    </tr>\n",
       "  </tbody>\n",
       "</table>\n",
       "</div>"
      ],
      "text/plain": [
       "Purchase        No       Yes\n",
       "Gender                      \n",
       "Female    0.400000  0.600000\n",
       "Male      0.508130  0.491870\n",
       "All       0.452055  0.547945"
      ]
     },
     "execution_count": 49,
     "metadata": {},
     "output_type": "execute_result"
    }
   ],
   "source": [
    "tableProb = pd.crosstab(genderPurchase[\"Gender\"], genderPurchase[\"Purchase\"], normalize='index', margins=True)\n",
    "tableProb"
   ]
  },
  {
   "cell_type": "markdown",
   "metadata": {},
   "source": [
    "### Probabilidad condicional\n",
    "\n",
    "Ahora vamos a hacernos dos preguntas clave: \n",
    "- ¿Cuál es la probabilidad de que un cliente compre un producto sabiendo que es un hombre?\n",
    "- ¿Cuál es la probabilidad de que un cliente compre un producto sabiendo que es una mujer?\n",
    "\n",
    "Estas preguntas están relacionadas con la probabilidad condicional. La probabilidad condicional define la probabilidad de que un evento sea verdadero conociendo ciertas restricciones relacionadas con el evento. \n",
    "\n",
    "Lo que ya sabemos influirá en nuestro resultado. La forma de expresar estas dos preguntas matemáticamente sería:\n",
    "- $P(Purchase|Male) = \\frac{Number\\ Purchases\\ by\\ men}{Total\\ number\\ men}= \\frac{Purchase \\cap Male}{Male}=\\frac{121}{246}=0.492$\n",
    "- $P(Purchase|Female) = \\frac{Number\\ Purchases\\ by\\ women}{Total\\ number\\ women}= \\frac{Purchase \\cap Female}{Female}=\\frac{159}{265}=0.6$\n",
    "\n",
    "Si nos preguntamos sobre la probabilidad de que sea una mujer sabiendo que ya ha comprado, tendríamos que cambiar la tabla generada por `crosstab` para dividirla por columnas.\n",
    "\n",
    "Pero en este escenario en particular, las probabilidades más interesantes a calcular para un negocio serían aquellas en las que, conociendo el género, vamos a calcular las probabilidades de que esa persona compre o no compre el producto.\n",
    "- $P(Purchase|Male)= 0.49$\n",
    "- $P(Purchase|Female)= 0.6$\n",
    "- $P(Non-Purchase|Male)= 0.51$\n",
    "- $P(Non-Purchase|Female)= 0.4$\n",
    "\n",
    "Estas son las probabilidades condicionales que nos ayudarán a explicar, por ejemplo, la creación del modelo de regresión logística."
   ]
  },
  {
   "cell_type": "markdown",
   "metadata": {},
   "source": [
    "### Odds ratio\n",
    "\n",
    "La odds ratio es la proporción de éxito para cada uno de los grupos. El índice de éxito para un grupo dado se define como las probabilidades de éxito divididas por las probabilidades de fracaso en el evento estudiado para cada grupo. \n",
    "\n",
    "En nuestro caso tendríamos dos ratios de probabilidad, uno para hombres y otro para mujeres. \n",
    "\n",
    "- Men: $odds_{purchase,male}=\\frac{P(Purchase|Male)}{1-P(Purchase|Male)}$\n",
    "- Women: $odds_{purchase,female}=\\frac{P(Purchase|Female)}{1-P(Purchase|Female)}$\n",
    "\n",
    "Nota: podemos simplificar la notación llamando a $P_m = P(Purchase|Male)$ y $P_f = P(Purchase|Female)$"
   ]
  },
  {
   "cell_type": "code",
   "execution_count": 56,
   "metadata": {},
   "outputs": [
    {
     "name": "stdout",
     "output_type": "stream",
     "text": [
      "0.9680000000000002\n",
      "1.4999999999999998\n"
     ]
    }
   ],
   "source": [
    "pm = tableProb.iloc[1,1]\n",
    "pf = tableProb.iloc[0,1]\n",
    "odds_m = pm/(1-pm);print(odds_m)\n",
    "odds_f = pf/(1-pf);print(odds_f)"
   ]
  },
  {
   "cell_type": "markdown",
   "metadata": {},
   "source": [
    "También podemos calcular estas $odds$ usando casos favorables a los eventos y casos adversos a los eventos. Por ejemplo, `odds_f` también puede calcularse dividiendo los casos de mujeres que compran entre los casos de mujeres que no compran. Es lo mismo para los hombres."
   ]
  },
  {
   "cell_type": "code",
   "execution_count": 52,
   "metadata": {},
   "outputs": [
    {
     "data": {
      "text/html": [
       "<div>\n",
       "<style scoped>\n",
       "    .dataframe tbody tr th:only-of-type {\n",
       "        vertical-align: middle;\n",
       "    }\n",
       "\n",
       "    .dataframe tbody tr th {\n",
       "        vertical-align: top;\n",
       "    }\n",
       "\n",
       "    .dataframe thead th {\n",
       "        text-align: right;\n",
       "    }\n",
       "</style>\n",
       "<table border=\"1\" class=\"dataframe\">\n",
       "  <thead>\n",
       "    <tr style=\"text-align: right;\">\n",
       "      <th>Purchase</th>\n",
       "      <th>No</th>\n",
       "      <th>Yes</th>\n",
       "    </tr>\n",
       "    <tr>\n",
       "      <th>Gender</th>\n",
       "      <th></th>\n",
       "      <th></th>\n",
       "    </tr>\n",
       "  </thead>\n",
       "  <tbody>\n",
       "    <tr>\n",
       "      <th>Female</th>\n",
       "      <td>106</td>\n",
       "      <td>159</td>\n",
       "    </tr>\n",
       "    <tr>\n",
       "      <th>Male</th>\n",
       "      <td>125</td>\n",
       "      <td>121</td>\n",
       "    </tr>\n",
       "  </tbody>\n",
       "</table>\n",
       "</div>"
      ],
      "text/plain": [
       "Purchase   No  Yes\n",
       "Gender            \n",
       "Female    106  159\n",
       "Male      125  121"
      ]
     },
     "execution_count": 52,
     "metadata": {},
     "output_type": "execute_result"
    }
   ],
   "source": [
    "tableFrec"
   ]
  },
  {
   "cell_type": "code",
   "execution_count": 57,
   "metadata": {},
   "outputs": [
    {
     "name": "stdout",
     "output_type": "stream",
     "text": [
      "0.968\n",
      "1.5\n"
     ]
    }
   ],
   "source": [
    "odds_m2 = 121/125; print(odds_m2)\n",
    "odds_f2 = 159/106; print(odds_f2)"
   ]
  },
  {
   "cell_type": "markdown",
   "metadata": {},
   "source": [
    "$odds_{purchase,male}=\\frac{P_m}{1-P_m}=\\frac{N_{p}{m}}{N_{\\bar p}{m}}=0.968$\n",
    "\n",
    "$odds_{purchase,female}=\\frac{P_f}{1-P_f}=\\frac{N_{p}{f}}{N_{\\bar p}{f}}=1.5$"
   ]
  },
  {
   "cell_type": "markdown",
   "metadata": {},
   "source": [
    "Este es un valor que debemos tener en cuenta ya que, si el odds ratio de un grupo es superior a 1, significa que el numerador es superior al denominador y, por tanto, que la probabilidad de éxito es superior a la probabilidad de fracaso. Cuanto mayor sea este número, mayor será la probabilidad de éxito para ese grupo en particular, por lo que es mucho más probable que se produzca la ocurrencia. \n",
    "\n",
    "En los casos más extremos, si el denominador es cero (nadie entra y sale sin comprar), cualquier número dividido por 0 es infinito. Si el numerador es cero (todos van sin comprar), cualquier número que divida a 0 será igual a 0. Debemos tener en cuenta que cada odds ratio cumplirá con la siguiente regla:\n",
    "\n",
    "$odds \\in[0,+Inf]$\n",
    "\n",
    "En el caso de exactamente igual a 1, el numerador y el denominador valdrían lo mismo, por lo que sería tan probable que tuviera éxito como que fracasara, sería equiprobable. Si es mayor que 1, el éxito es más probable que el fracaso, y si es menor que 1, el fracaso es más probable que el éxito. Esto es muy importante ya que es la base de la regresión logística.\n",
    "\n",
    "- $odds_{ratio} > 1$: el éxito es más probable que el fracaso. Cuanto mayor sea la proporción, mayor será la probabilidad de éxito de nuestro evento.\n",
    "- $odds_{ratio} = 1$: el éxito y el fracaso son equiprobables\n",
    "- $odds_{ratio} < 1$: el fracaso es más probable que el éxito. Cuanto menor sea la relación, menor será la probabilidad de éxito de nuestro evento.\n",
    "\n",
    "En el ejemplo práctico que estamos considerando, la proporción es mayor que 1 para las mujeres, siendo 1,5, y menor que 1 para los hombres. Podemos concluir que las mujeres son más propensas a comprar que los hombres.\n",
    "\n",
    "También tenemos un método para determinar qué grupo tiene el índice de éxito más alto en el experimento. Una vez que tenemos la proporción de hombres y mujeres, podemos validar cuál es mayor haciendo un cociente.\n",
    "\n",
    "$odds_{ratio} = \\frac{odds_{purchase,male}}{odds_{purchase,female}}$"
   ]
  },
  {
   "cell_type": "code",
   "execution_count": 58,
   "metadata": {},
   "outputs": [
    {
     "data": {
      "text/plain": [
       "0.6453333333333335"
      ]
     },
     "execution_count": 58,
     "metadata": {},
     "output_type": "execute_result"
    }
   ],
   "source": [
    "odds_r = odds_m/odds_f;odds_r"
   ]
  },
  {
   "cell_type": "markdown",
   "metadata": {},
   "source": [
    "El ratio de proporciones indica que el denominador es superior al numerador, de modo que, en el mismo caso, las mujeres tienen más probabilidades de éxito que los hombres. Si lo hacemos a la inversa, nos dará un número mayor que 1."
   ]
  },
  {
   "cell_type": "code",
   "execution_count": 59,
   "metadata": {},
   "outputs": [
    {
     "data": {
      "text/plain": [
       "1.5495867768595035"
      ]
     },
     "execution_count": 59,
     "metadata": {},
     "output_type": "execute_result"
    }
   ],
   "source": [
    "odds_r = odds_f/odds_m;odds_r"
   ]
  }
 ],
 "metadata": {
  "kernelspec": {
   "display_name": "Python 3",
   "language": "python",
   "name": "python3"
  },
  "language_info": {
   "codemirror_mode": {
    "name": "ipython",
    "version": 3
   },
   "file_extension": ".py",
   "mimetype": "text/x-python",
   "name": "python",
   "nbconvert_exporter": "python",
   "pygments_lexer": "ipython3",
   "version": "3.7.3"
  }
 },
 "nbformat": 4,
 "nbformat_minor": 2
}
