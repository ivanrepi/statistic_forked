{
 "cells": [
  {
   "cell_type": "markdown",
   "metadata": {},
   "source": [
    "# Herramientas de Visualización para Análisis Exploratorio de los Datos\n",
    "\n",
    "## Objetivos de la sesión\n",
    "\n",
    "En esta sesión vamos a aprender a utilizar los siguientes tipos de gráficos:\n",
    "- Gráficos de caja y bigotes (Boxplot)\n",
    "- Gráficos violin\n",
    "- Histogramas\n",
    "- Gráficos de barras\n",
    "\n",
    "Vamos a hacer uso de las librerias `pandas` con `matplotlib` por debajo y `seaborn` (solo en los casos necesarios)."
   ]
  },
  {
   "cell_type": "markdown",
   "metadata": {},
   "source": [
    "## Introducción\n",
    "\n",
    "El objetivo del análisis exploratorio de los datos es obtener información inicial acerca de las variables de nuestro dataset para concer cómo se comportan de forma aislada y cómo se relacionan entre ellos.\n",
    "\n",
    "Muchas veces basta con observar detenidamente el resumen de los datos para hacerse una idea de los descriptivos básicos. Sin embargo, a veces encontramos que las visualizaciones de datos pueden capturar una gran cantidad de información de una sola vez de una forma más clara y concisa."
   ]
  },
  {
   "cell_type": "markdown",
   "metadata": {},
   "source": [
    "### Gráfico de Caja (boxplot)\n",
    "\n",
    "Los gráficos de caja nos ofrecen información acerca de cinco valores concretos, además de permitirnos identificas los valores atípicos en una variable. Dentro de la caja nos encontramos los valores que se encuentran entre los percentiles 25 y 75. Se dibuja una línea en el recuadro para mostrar dónde se encuentra la mediana (o el percentil 50).\n",
    "\n",
    "Las líneas que salen desde las cajas son denominadas bigotes. Estos bigotes nos informan de los valores que se encuentran entre el percentil 75 y el percentil 75 más 1.5 veces el rango intercuartílico (por arriba) y entre el percentil 25 y el percentil 25 menos 1.5 veces el rango intercuartílico (por abajo).\n",
    "\n",
    "El rango intercuartil es la diferencia entre el primer y tercer cuartil.\n",
    "\n",
    "Ya que esta explicación verbal puede ser confusa, aquí hay algunas fórmulas:\n",
    "\n",
    "Rango Inter Cuartílico (IQR) = Tercer Cuarto - Primer Cuarto\n",
    "\n",
    "Límite superior de bigote < Tercer cuartil + 1.5 * IQR\n",
    "\n",
    "Límite inferior de bigote > Primer cuartil - 1.5 * IQR\n",
    "\n",
    "Podemo variar el multiplicador del rango intercuartílico para establecer límites más o menos laxos en la detección de outliers.\n",
    "\n",
    "Con todo esto en mente, trazaremos un gráfico de caja con los datos de nuestros vehículos.\n",
    "\n",
    "Primero cargamos el conjunto de datos de los vehículos usando pandas."
   ]
  },
  {
   "cell_type": "code",
   "execution_count": 2,
   "metadata": {},
   "outputs": [],
   "source": [
    "%matplotlib inline"
   ]
  },
  {
   "cell_type": "code",
   "execution_count": 3,
   "metadata": {},
   "outputs": [
    {
     "data": {
      "text/html": [
       "<div>\n",
       "<style scoped>\n",
       "    .dataframe tbody tr th:only-of-type {\n",
       "        vertical-align: middle;\n",
       "    }\n",
       "\n",
       "    .dataframe tbody tr th {\n",
       "        vertical-align: top;\n",
       "    }\n",
       "\n",
       "    .dataframe thead th {\n",
       "        text-align: right;\n",
       "    }\n",
       "</style>\n",
       "<table border=\"1\" class=\"dataframe\">\n",
       "  <thead>\n",
       "    <tr style=\"text-align: right;\">\n",
       "      <th></th>\n",
       "      <th>Make</th>\n",
       "      <th>Model</th>\n",
       "      <th>Year</th>\n",
       "      <th>Engine Displacement</th>\n",
       "      <th>Cylinders</th>\n",
       "      <th>Transmission</th>\n",
       "      <th>Drivetrain</th>\n",
       "      <th>Vehicle Class</th>\n",
       "      <th>Fuel Type</th>\n",
       "      <th>Fuel Barrels/Year</th>\n",
       "      <th>City MPG</th>\n",
       "      <th>Highway MPG</th>\n",
       "      <th>Combined MPG</th>\n",
       "      <th>CO2 Emission Grams/Mile</th>\n",
       "      <th>Fuel Cost/Year</th>\n",
       "    </tr>\n",
       "  </thead>\n",
       "  <tbody>\n",
       "    <tr>\n",
       "      <th>0</th>\n",
       "      <td>AM General</td>\n",
       "      <td>DJ Po Vehicle 2WD</td>\n",
       "      <td>1984</td>\n",
       "      <td>2.5</td>\n",
       "      <td>4.0</td>\n",
       "      <td>Automatic 3-spd</td>\n",
       "      <td>2-Wheel Drive</td>\n",
       "      <td>Special Purpose Vehicle 2WD</td>\n",
       "      <td>Regular</td>\n",
       "      <td>19.388824</td>\n",
       "      <td>18</td>\n",
       "      <td>17</td>\n",
       "      <td>17</td>\n",
       "      <td>522.764706</td>\n",
       "      <td>1950</td>\n",
       "    </tr>\n",
       "    <tr>\n",
       "      <th>1</th>\n",
       "      <td>AM General</td>\n",
       "      <td>FJ8c Post Office</td>\n",
       "      <td>1984</td>\n",
       "      <td>4.2</td>\n",
       "      <td>6.0</td>\n",
       "      <td>Automatic 3-spd</td>\n",
       "      <td>2-Wheel Drive</td>\n",
       "      <td>Special Purpose Vehicle 2WD</td>\n",
       "      <td>Regular</td>\n",
       "      <td>25.354615</td>\n",
       "      <td>13</td>\n",
       "      <td>13</td>\n",
       "      <td>13</td>\n",
       "      <td>683.615385</td>\n",
       "      <td>2550</td>\n",
       "    </tr>\n",
       "    <tr>\n",
       "      <th>2</th>\n",
       "      <td>AM General</td>\n",
       "      <td>Post Office DJ5 2WD</td>\n",
       "      <td>1985</td>\n",
       "      <td>2.5</td>\n",
       "      <td>4.0</td>\n",
       "      <td>Automatic 3-spd</td>\n",
       "      <td>Rear-Wheel Drive</td>\n",
       "      <td>Special Purpose Vehicle 2WD</td>\n",
       "      <td>Regular</td>\n",
       "      <td>20.600625</td>\n",
       "      <td>16</td>\n",
       "      <td>17</td>\n",
       "      <td>16</td>\n",
       "      <td>555.437500</td>\n",
       "      <td>2100</td>\n",
       "    </tr>\n",
       "    <tr>\n",
       "      <th>3</th>\n",
       "      <td>AM General</td>\n",
       "      <td>Post Office DJ8 2WD</td>\n",
       "      <td>1985</td>\n",
       "      <td>4.2</td>\n",
       "      <td>6.0</td>\n",
       "      <td>Automatic 3-spd</td>\n",
       "      <td>Rear-Wheel Drive</td>\n",
       "      <td>Special Purpose Vehicle 2WD</td>\n",
       "      <td>Regular</td>\n",
       "      <td>25.354615</td>\n",
       "      <td>13</td>\n",
       "      <td>13</td>\n",
       "      <td>13</td>\n",
       "      <td>683.615385</td>\n",
       "      <td>2550</td>\n",
       "    </tr>\n",
       "    <tr>\n",
       "      <th>4</th>\n",
       "      <td>ASC Incorporated</td>\n",
       "      <td>GNX</td>\n",
       "      <td>1987</td>\n",
       "      <td>3.8</td>\n",
       "      <td>6.0</td>\n",
       "      <td>Automatic 4-spd</td>\n",
       "      <td>Rear-Wheel Drive</td>\n",
       "      <td>Midsize Cars</td>\n",
       "      <td>Premium</td>\n",
       "      <td>20.600625</td>\n",
       "      <td>14</td>\n",
       "      <td>21</td>\n",
       "      <td>16</td>\n",
       "      <td>555.437500</td>\n",
       "      <td>2550</td>\n",
       "    </tr>\n",
       "  </tbody>\n",
       "</table>\n",
       "</div>"
      ],
      "text/plain": [
       "               Make                Model  Year  Engine Displacement  \\\n",
       "0        AM General    DJ Po Vehicle 2WD  1984                  2.5   \n",
       "1        AM General     FJ8c Post Office  1984                  4.2   \n",
       "2        AM General  Post Office DJ5 2WD  1985                  2.5   \n",
       "3        AM General  Post Office DJ8 2WD  1985                  4.2   \n",
       "4  ASC Incorporated                  GNX  1987                  3.8   \n",
       "\n",
       "   Cylinders     Transmission        Drivetrain                Vehicle Class  \\\n",
       "0        4.0  Automatic 3-spd     2-Wheel Drive  Special Purpose Vehicle 2WD   \n",
       "1        6.0  Automatic 3-spd     2-Wheel Drive  Special Purpose Vehicle 2WD   \n",
       "2        4.0  Automatic 3-spd  Rear-Wheel Drive  Special Purpose Vehicle 2WD   \n",
       "3        6.0  Automatic 3-spd  Rear-Wheel Drive  Special Purpose Vehicle 2WD   \n",
       "4        6.0  Automatic 4-spd  Rear-Wheel Drive                 Midsize Cars   \n",
       "\n",
       "  Fuel Type  Fuel Barrels/Year  City MPG  Highway MPG  Combined MPG  \\\n",
       "0   Regular          19.388824        18           17            17   \n",
       "1   Regular          25.354615        13           13            13   \n",
       "2   Regular          20.600625        16           17            16   \n",
       "3   Regular          25.354615        13           13            13   \n",
       "4   Premium          20.600625        14           21            16   \n",
       "\n",
       "   CO2 Emission Grams/Mile  Fuel Cost/Year  \n",
       "0               522.764706            1950  \n",
       "1               683.615385            2550  \n",
       "2               555.437500            2100  \n",
       "3               683.615385            2550  \n",
       "4               555.437500            2550  "
      ]
     },
     "execution_count": 3,
     "metadata": {},
     "output_type": "execute_result"
    }
   ],
   "source": [
    "import pandas as pd\n",
    "\n",
    "vehicles = pd.read_csv('./data/vehicles/vehicles.csv')\n",
    "\n",
    "vehicles.head()"
   ]
  },
  {
   "cell_type": "markdown",
   "metadata": {},
   "source": [
    "Ahora que ya hemos leido el dataframe podemos probar nuestro primer boxplot con datos reales. Vamos a dibujar un diagrama de caja y bigotes de la medida de MPG combinada"
   ]
  },
  {
   "cell_type": "code",
   "execution_count": 21,
   "metadata": {},
   "outputs": [
    {
     "data": {
      "text/plain": [
       "<matplotlib.axes._subplots.AxesSubplot at 0x1a264a8400>"
      ]
     },
     "execution_count": 21,
     "metadata": {},
     "output_type": "execute_result"
    },
    {
     "data": {
      "image/png": "[encoded data removed]",
      "text/plain": [
       "<Figure size 432x288 with 1 Axes>"
      ]
     },
     "metadata": {
      "needs_background": "light"
     },
     "output_type": "display_data"
    }
   ],
   "source": [
    "vehicles.boxplot(column=\"Combined MPG\")"
   ]
  },
  {
   "cell_type": "markdown",
   "metadata": {},
   "source": [
    "En este caso utilizamos la función `.boxplot` y no la `.plot`"
   ]
  },
  {
   "cell_type": "code",
   "execution_count": 17,
   "metadata": {},
   "outputs": [
    {
     "data": {
      "text/plain": [
       "<matplotlib.axes._subplots.AxesSubplot at 0x1a2637e3c8>"
      ]
     },
     "execution_count": 17,
     "metadata": {},
     "output_type": "execute_result"
    },
    {
     "data": {
      "image/png": "[encoded data removed]",
      "text/plain": [
       "<Figure size 432x288 with 1 Axes>"
      ]
     },
     "metadata": {
      "needs_background": "light"
     },
     "output_type": "display_data"
    }
   ],
   "source": [
    "vehicles.boxplot(column=\"Combined MPG\", whis=[0, 98])"
   ]
  },
  {
   "cell_type": "markdown",
   "metadata": {},
   "source": [
    "En `matplotlib` existe un parámetro de la función `boxplot` que nos permite decidir en qué rango incluimos los bigotes de nuestro gráfico. Este parámetro se llama `whis` y podemos ver cómo funciona en el código de arriba."
   ]
  },
  {
   "cell_type": "markdown",
   "metadata": {},
   "source": [
    "En cualquier caso, lo que podemos inferir de este gráfico de caja es que los datos están sesgados debido a un gran número de valores atípicos extremos que tienen muy buenos índices MPG. También podemos ver que la mediana no está exactamente en el centro de la caja.\n",
    "\n",
    "NOTA: este es el tipo de variables que, tras evaluar su asimetría, podemos transformar utilizando el logaritmo en base n sobre los valores de la propia variable, veamos qué ocurre si hacemos esto"
   ]
  },
  {
   "cell_type": "code",
   "execution_count": 6,
   "metadata": {},
   "outputs": [],
   "source": [
    "import numpy as np"
   ]
  },
  {
   "cell_type": "code",
   "execution_count": 7,
   "metadata": {},
   "outputs": [],
   "source": [
    "vehicles[\"Log Combined MPG\"] = np.log(vehicles[\"Combined MPG\"])"
   ]
  },
  {
   "cell_type": "code",
   "execution_count": 20,
   "metadata": {},
   "outputs": [
    {
     "data": {
      "text/plain": [
       "<matplotlib.axes._subplots.AxesSubplot at 0x1256bee80>"
      ]
     },
     "execution_count": 20,
     "metadata": {},
     "output_type": "execute_result"
    },
    {
     "data": {
      "image/png": "[encoded data removed]",
      "text/plain": [
       "<Figure size 432x288 with 1 Axes>"
      ]
     },
     "metadata": {
      "needs_background": "light"
     },
     "output_type": "display_data"
    }
   ],
   "source": [
    "vehicles.boxplot(column=\"Log Combined MPG\")"
   ]
  },
  {
   "cell_type": "markdown",
   "metadata": {},
   "source": [
    "### Diagrama de Violín\n",
    "\n",
    "El diagrama de violín es muy similar al de caja y bigotes. La diferencia principal es que el diagrama de caja es de ancho fijo, mientras que el diagrama de violín varía en grosor a lo largo del gráfico. La diferencia en el grosor nos indica la ocurrencia de los valores (la zona más gruesa será la que acumula una mayor cantidad de valores). Hay una capa adicional dentro del gráfico que nos informa de los valores que ocurren el 95% de las veces. Finalmente, hay un punto central que significa el valor promedio.\n",
    "\n",
    "Para utilizar este tipo de gráficos necesitamos la librería `seaborn`"
   ]
  },
  {
   "cell_type": "code",
   "execution_count": 9,
   "metadata": {},
   "outputs": [
    {
     "data": {
      "text/plain": [
       "<matplotlib.axes._subplots.AxesSubplot at 0x124ea49e8>"
      ]
     },
     "execution_count": 9,
     "metadata": {},
     "output_type": "execute_result"
    },
    {
     "data": {
      "image/png": "[encoded data removed]",
      "text/plain": [
       "<Figure size 432x288 with 1 Axes>"
      ]
     },
     "metadata": {
      "needs_background": "light"
     },
     "output_type": "display_data"
    }
   ],
   "source": [
    "import seaborn as sns\n",
    "\n",
    "sns.violinplot(\"Combined MPG\", data=vehicles)"
   ]
  },
  {
   "cell_type": "markdown",
   "metadata": {},
   "source": [
    "### Histogram\n",
    "\n",
    "Los histogramas son gráficos que nos permiten tener una visión simplificada de la distribución de un conjunto de datos. Cuando dibujamos un histograma, lo que hacemos es separar los datos en contenedores, y luego dibujar el conteo para cada contenedor como si fuese un gráfico de barras.\n",
    "\n",
    "El número de contenedores puede alterar en gran medida el aspecto del histograma, por lo que debemos tener cuidado al seleccionar este número. El número predeterminado de contenedores con Pandas es 10.\n",
    "\n",
    "Como ejemplo, trazaremos el histograma de `Fuel Barrels/Year`.\n",
    "\n",
    "Este es el histograma con 10 contenedores. Observamos cómo se asemeja a la distribución normal."
   ]
  },
  {
   "cell_type": "code",
   "execution_count": 10,
   "metadata": {},
   "outputs": [
    {
     "data": {
      "text/plain": [
       "<matplotlib.axes._subplots.AxesSubplot at 0x124fab5c0>"
      ]
     },
     "execution_count": 10,
     "metadata": {},
     "output_type": "execute_result"
    },
    {
     "data": {
      "image/png": "[encoded data removed]",
      "text/plain": [
       "<Figure size 432x288 with 1 Axes>"
      ]
     },
     "metadata": {
      "needs_background": "light"
     },
     "output_type": "display_data"
    }
   ],
   "source": [
    "vehicles['Fuel Barrels/Year'].hist()"
   ]
  },
  {
   "cell_type": "markdown",
   "metadata": {},
   "source": [
    "Cuando cambiamos a 50 contenedores, los datos casi parecen bimodales."
   ]
  },
  {
   "cell_type": "code",
   "execution_count": 24,
   "metadata": {},
   "outputs": [
    {
     "data": {
      "text/plain": [
       "<matplotlib.axes._subplots.AxesSubplot at 0x1a2655fef0>"
      ]
     },
     "execution_count": 24,
     "metadata": {},
     "output_type": "execute_result"
    },
    {
     "data": {
      "image/png": "[encoded data removed]",
      "text/plain": [
       "<Figure size 432x288 with 1 Axes>"
      ]
     },
     "metadata": {
      "needs_background": "light"
     },
     "output_type": "display_data"
    }
   ],
   "source": [
    "vehicles['Fuel Barrels/Year'].hist(bins=20)"
   ]
  },
  {
   "cell_type": "markdown",
   "metadata": {},
   "source": [
    "### Gráfico de Barras\n",
    "\n",
    "Los gráficos de barras son visualmente similares a los histogramas. Sin embargo, representan datos diferentes. Los gráficos de barras muestran datos categóricos mientras que los histogramas muestran datos numéricos. Cada barra muestra el conteo de cada categoría. De esta manera podemos visualizar claramente la distribución de los datos entre las diferentes categorías.\n",
    "\n",
    "En este ejemplo nos gustaría trazar el diagrama de barras para la variable `Drivetrain`. Para ello, primero encontramos los recuentos de cada categoría en esta variable utilizando la función value_counts."
   ]
  },
  {
   "cell_type": "code",
   "execution_count": 12,
   "metadata": {},
   "outputs": [
    {
     "data": {
      "text/plain": [
       "<matplotlib.axes._subplots.AxesSubplot at 0x125310dd8>"
      ]
     },
     "execution_count": 12,
     "metadata": {},
     "output_type": "execute_result"
    },
    {
     "data": {
      "image/png": "[encoded data removed]",
      "text/plain": [
       "<Figure size 432x288 with 1 Axes>"
      ]
     },
     "metadata": {
      "needs_background": "light"
     },
     "output_type": "display_data"
    }
   ],
   "source": [
    "vehicles['Drivetrain'].value_counts().plot.bar()"
   ]
  },
  {
   "cell_type": "markdown",
   "metadata": {},
   "source": [
    "## Resumen\n",
    "\n",
    "En esta lección hemos aprendido a dibujar diferentes gráficos que pueden ayudarnos a descubrir información sobre nuestros datos. Sobre los diagramas de caja hemos aprendido que nos informan acerca de cinco valores y nos pueden ayudar a detectar valores atípicos. Sobre los diagramas de violín hemos aprendido que nos informan de algo similar al diagrama de caja incluyendo la densidad de la distribución. Sobre los histogramas aprendimos que nos ayudan a visualizar la distribución de nuestras variables continuas dividiendo estas variables en distintos contenedores y dibujando el conteo de los mismos. Finalmente, hemos aprendido que los gráficos de barras nos ayudan a comprender mejor nuestras variables categóricas, dibujando el conteo de casos en cada una de ellas. Estos cuatro diagramas son solo una introducción a las herramientas que necesitamos para ser eficaces en el análisis exploratorio de datos, a partir de aquí tendremos que explorar más herramientas y maneras más complejas de representación gráfica de los datos."
   ]
  }
 ],
 "metadata": {
  "kernelspec": {
   "display_name": "Python 3",
   "language": "python",
   "name": "python3"
  },
  "language_info": {
   "codemirror_mode": {
    "name": "ipython",
    "version": 3
   },
   "file_extension": ".py",
   "mimetype": "text/x-python",
   "name": "python",
   "nbconvert_exporter": "python",
   "pygments_lexer": "ipython3",
   "version": "3.7.3"
  }
 },
 "nbformat": 4,
 "nbformat_minor": 2
}
